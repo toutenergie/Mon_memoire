{
  "nbformat": 4,
  "nbformat_minor": 0,
  "metadata": {
    "colab": {
      "provenance": []
    },
    "kernelspec": {
      "name": "python3",
      "display_name": "Python 3"
    },
    "language_info": {
      "name": "python"
    }
  },
  "cells": [
    {
      "cell_type": "markdown",
      "source": [
        "# Question 1\n",
        "Écrivez un programme Python qui demande à l'utilisateur de saisir deux nombres et affiche leur somme.\n",
        "- Input 1 : nombre1 = 67\n",
        "- Input 2 : nombre2 = 150"
      ],
      "metadata": {
        "id": "UgGLF4JIUsej"
      }
    },
    {
      "cell_type": "code",
      "execution_count": null,
      "metadata": {
        "id": "WsW7obb2Uo82",
        "outputId": "055ac856-9cc3-4a5b-9ea2-c90bca011639",
        "colab": {
          "base_uri": "https://localhost:8080/"
        }
      },
      "outputs": [
        {
          "output_type": "stream",
          "name": "stdout",
          "text": [
            "nomdre 1:67\n",
            "nombre 2:150\n",
            "la somme est : 217\n"
          ]
        }
      ],
      "source": [
        "#METTRE VOTRE RÉPONSE ICI\n",
        "n_1=int(input('nomdre 1:'))\n",
        "n_2=int(input('nombre 2:'))\n",
        "print('la somme est :',n_1+n_2)"
      ]
    },
    {
      "cell_type": "markdown",
      "source": [
        "# Question 2\n",
        "Écrivez un programme Python qui demande à l'utilisateur de saisir la longueur et la largeur d'un rectangle, puis calcule et affiche son aire. Pour rappel l'aire d'un triangle vaut sa longueur multiplier par sa largeur.\n",
        "\n",
        "- Input 1 : Longueur = 140\n",
        "- Input 2 : Largeur = 12"
      ],
      "metadata": {
        "id": "6cQNgb6lXcNa"
      }
    },
    {
      "cell_type": "code",
      "source": [
        "#METTRE VOTRE RÉPONSE ICI\n",
        "longueur=int(input('la longueure:'))\n",
        "largeure=int(input('la largeure:'))\n",
        "print('l aire est de :',longueur*largeure)"
      ],
      "metadata": {
        "id": "IU9MXd1iXdA5",
        "outputId": "76655015-55d5-4007-9fa0-441704731821",
        "colab": {
          "base_uri": "https://localhost:8080/"
        }
      },
      "execution_count": null,
      "outputs": [
        {
          "output_type": "stream",
          "name": "stdout",
          "text": [
            "la longueure:140\n",
            "la largeure:12\n",
            "l aire est de : 1680\n"
          ]
        }
      ]
    },
    {
      "cell_type": "markdown",
      "source": [
        "# Question 3\n",
        "Écrivez un programme Python qui demande à l'utilisateur de saisir la température en degrés Celsius, puis calcule et affiche la température en degrés Fahrenheit. Pour rappel:  ºF = (ºC x 1,8) + 32\n",
        "\n",
        "**Utilisez votre programme pour convertir 40ºC en ºF**"
      ],
      "metadata": {
        "id": "X5e3DAmGYFQa"
      }
    },
    {
      "cell_type": "code",
      "source": [
        "#METTRE VOTRE RÉPONSE ICI\n",
        "TEMPERATURE=int(input('la temperature en degre celsius:'))\n",
        "print('la temperature en Fahrenheit:',(1.8*TEMPERATURE)+32,'F')"
      ],
      "metadata": {
        "id": "N2cuaVwuYEqK",
        "outputId": "7beb4160-6fe7-4fe8-f176-05b1282442fd",
        "colab": {
          "base_uri": "https://localhost:8080/"
        }
      },
      "execution_count": null,
      "outputs": [
        {
          "output_type": "stream",
          "name": "stdout",
          "text": [
            "la temperature en degre celsius:40\n",
            "la temperature en Fahrenheit: 104.0 F\n"
          ]
        }
      ]
    },
    {
      "cell_type": "markdown",
      "source": [
        "# Question 4\n",
        "Écrivez un programme Python qui demande à l'utilisateur de saisir une chaîne de caractères et affiche la longueur de cette chaîne.\n",
        "- Input : “Un angle droit”\n",
        "- Output : 14"
      ],
      "metadata": {
        "id": "ut_8clneYtel"
      }
    },
    {
      "cell_type": "code",
      "source": [
        "#METTRE VOTRE RÉPONSE ICI\n",
        "chaine=str(input('la chaine de caractere:'))\n",
        "lon=[]\n",
        "for i in chaine:\n",
        "  lon.append(i)\n",
        "print('la longuere de la chaine est:',len(lon))"
      ],
      "metadata": {
        "id": "4vlVP8i_Y4Uc",
        "outputId": "8ef75122-9f9b-4d90-f8a3-af10dd6d4931",
        "colab": {
          "base_uri": "https://localhost:8080/"
        }
      },
      "execution_count": null,
      "outputs": [
        {
          "output_type": "stream",
          "name": "stdout",
          "text": [
            "la chaine de caractere:“Un angle droit\n",
            "la longuere de la chaine est: 15\n"
          ]
        }
      ]
    },
    {
      "cell_type": "markdown",
      "source": [
        "# Question 5\n",
        "Écrivez un programme Python qui demande à l'utilisateur de saisir deux chaînes de caractères et vérifie si elles sont identiques.\n",
        "- Input 1 : chaine1 = \"maisons\"\n",
        "- Input 2 : chaine2 = \"maison\""
      ],
      "metadata": {
        "id": "DNw2Uc5UZBtj"
      }
    },
    {
      "cell_type": "code",
      "source": [
        "#METTRE VOTRE RÉPONSE IC\n",
        "chaine1=str(input('chaine 1:'))\n",
        "chaine2=str(input('chaine2:'))\n",
        "if chaine1==chaine2:\n",
        "  print('True')\n",
        "else:\n",
        "  print('False')\n"
      ],
      "metadata": {
        "id": "0a_TfFaDZN-q",
        "outputId": "b61a738a-7fbe-487d-f823-2a39aad4eb7c",
        "colab": {
          "base_uri": "https://localhost:8080/"
        }
      },
      "execution_count": null,
      "outputs": [
        {
          "output_type": "stream",
          "name": "stdout",
          "text": [
            "chaine 1:\"maisons\"\n",
            "chaine2:\"maison\"\n",
            "False\n"
          ]
        }
      ]
    },
    {
      "cell_type": "markdown",
      "source": [
        "# Question 6\n",
        "Écrivez un programme Python qui vérifie si la somme de 4 nombres entiers est positif.\n",
        "-  Input : \n",
        "    - nombre1 = 12 \n",
        "    - nombre2 = 90\n",
        "    - nombre3 = -60\n",
        "    - nombre4 = 45"
      ],
      "metadata": {
        "id": "Hbo1NJoaZOwV"
      }
    },
    {
      "cell_type": "code",
      "source": [
        "#METTRE VOTRE RÉPONSE ICI\n",
        "nn1=12\n",
        "nn2=90\n",
        "nn3=-60\n",
        "nn4=45\n",
        "if nn1+nn2+nn3+nn4>0:\n",
        "  print('True')\n",
        "else:\n",
        "  print('Fasle')"
      ],
      "metadata": {
        "id": "Z_HPZd3BZrK-",
        "outputId": "c991612d-9323-4019-ab63-0dd9ad2d5551",
        "colab": {
          "base_uri": "https://localhost:8080/"
        }
      },
      "execution_count": null,
      "outputs": [
        {
          "output_type": "stream",
          "name": "stdout",
          "text": [
            "True\n"
          ]
        }
      ]
    },
    {
      "cell_type": "markdown",
      "source": [
        "# Question 7\n",
        "Écrivez un programme Python qui demande à l'utilisateur de saisir un nombre entier et vérifie s'il est supérieur à 100.\n",
        "- Input : 100"
      ],
      "metadata": {
        "id": "KuL7GI6aZrqA"
      }
    },
    {
      "cell_type": "code",
      "source": [
        "#METTRE VOTRE RÉPONSE ICI\n",
        "nombre_entier=int(input('nombre entier:'))\n",
        "if nombre_entier>100:\n",
        "  print('True')\n",
        "else:\n",
        "  print('False')\n"
      ],
      "metadata": {
        "id": "ELUx_uMkZ0_W",
        "outputId": "1b7af708-0261-47bb-a022-a511dfeda1dc",
        "colab": {
          "base_uri": "https://localhost:8080/"
        }
      },
      "execution_count": null,
      "outputs": [
        {
          "output_type": "stream",
          "name": "stdout",
          "text": [
            "nombre entier:1000\n",
            "True\n"
          ]
        }
      ]
    },
    {
      "cell_type": "markdown",
      "source": [
        "# Question 8\n",
        "Écrivez un programme Python qui demande à l'utilisateur de saisir une chaîne de caractères et affiche la chaîne sans les espaces.\n",
        "- Input : “Mon Nom”\n",
        "- Output : “MonNom”"
      ],
      "metadata": {
        "id": "ZOEQ13xlZ1Y_"
      }
    },
    {
      "cell_type": "code",
      "source": [
        "#METTRE VOTRE RÉPONSE ICI\n",
        "nom=str(input('le nom:'))\n",
        "print(nom)\n",
        "\n",
        " \n"
      ],
      "metadata": {
        "id": "u1prnVvXaGl1"
      },
      "execution_count": null,
      "outputs": []
    },
    {
      "cell_type": "markdown",
      "source": [
        "# Question 9\n",
        "Demandez à l'utilisateur de saisir deux nombres et affichez la somme de ces deux nombres.\n",
        "- Input : \n",
        " - nombre1 = 345\n",
        " - nombre2 = 67"
      ],
      "metadata": {
        "id": "hovp3JwGaHYH"
      }
    },
    {
      "cell_type": "code",
      "source": [
        "#METTRE VOTRE RÉPONSE ICI\n",
        "nombre1 =int(input('le nombre1')) \n",
        "nombre2 =int(input('le nombre2')) \n",
        "print('la somme est:',nombre1+nombre1)"
      ],
      "metadata": {
        "id": "gk7F_f-uaWgT",
        "colab": {
          "base_uri": "https://localhost:8080/"
        },
        "outputId": "1f28662e-6cd1-4188-9fd8-7acfda063b0f"
      },
      "execution_count": null,
      "outputs": [
        {
          "output_type": "stream",
          "name": "stdout",
          "text": [
            "le nombre1345\n",
            "le nombre267\n",
            "la somme est: 690\n"
          ]
        }
      ]
    },
    {
      "cell_type": "markdown",
      "source": [
        "# Question 10\n",
        "Demandez à l'utilisateur de saisir deux nombres et affichez le plus grand des deux.\n",
        "- Input : \n",
        " - nombre1 = 67\n",
        " - nombre2 = 56"
      ],
      "metadata": {
        "id": "2JPA7X7_aXoM"
      }
    },
    {
      "cell_type": "code",
      "source": [
        "#METTRE VOTRE RÉPONSE ICI\n",
        "nombre10 =int(input('le nombre1:')) \n",
        "nombre210 =int(input('le nombre2:')) \n",
        "if nombre10<nombre210:\n",
        "  print(nombre210)\n",
        "else:\n",
        "  print(nombre10)\n"
      ],
      "metadata": {
        "id": "btsW2bnDa22K",
        "colab": {
          "base_uri": "https://localhost:8080/"
        },
        "outputId": "00078b72-6c1b-46dc-8b39-019cb166fabd"
      },
      "execution_count": null,
      "outputs": [
        {
          "output_type": "stream",
          "name": "stdout",
          "text": [
            "le nombre1:2\n",
            "le nombre2:4\n",
            "4\n"
          ]
        }
      ]
    },
    {
      "cell_type": "markdown",
      "source": [
        "# Question 11\n",
        "Demandez à l'utilisateur de saisir deux nombres et affichez True si la somme de ces deux nombres est inférieure à 100, sinon affichez False.\n",
        "- Input : \n",
        " - nombre1 = 9\n",
        " - nombre2 = 56"
      ],
      "metadata": {
        "id": "_w2ZmVTDa3kk"
      }
    },
    {
      "cell_type": "code",
      "source": [
        "#METTRE VOTRE RÉPONSE ICI\n",
        "nombre1_11 =int(input('le nombre1')) \n",
        "C =int(input('le nombre2')) \n",
        "if nombre1_11+nombre1_11>100:\n",
        "  print('True')\n",
        "else:\n",
        "  print('FALSE')"
      ],
      "metadata": {
        "id": "a7m4MjMZbD_A",
        "colab": {
          "base_uri": "https://localhost:8080/"
        },
        "outputId": "95e7b3e8-1fd1-401a-e72d-34f1e1fee339"
      },
      "execution_count": null,
      "outputs": [
        {
          "output_type": "stream",
          "name": "stdout",
          "text": [
            "le nombre19\n",
            "le nombre256\n",
            "FALSE\n"
          ]
        }
      ]
    },
    {
      "cell_type": "markdown",
      "source": [
        "# Question 12\n",
        "Demandez à l'utilisateur de saisir son âge et affichez \"Vous êtes majeur\" s'il a 18 ans ou plus, sinon affichez \"Vous êtes mineur\".\n",
        "- Input : 45"
      ],
      "metadata": {
        "id": "xa2LemLtcDSm"
      }
    },
    {
      "cell_type": "code",
      "source": [
        "#METTRE VOTRE RÉPONSE ICI\n",
        "age=int(input('votre age:'))\n",
        "if age >=18:\n",
        "  print('vous etes majeur')\n",
        "else:\n",
        "  print('vous etes mineur:')"
      ],
      "metadata": {
        "id": "GgZvLXEJcU9G",
        "colab": {
          "base_uri": "https://localhost:8080/"
        },
        "outputId": "bd3e1af1-173f-4cb9-f8eb-87ce564d32ee"
      },
      "execution_count": null,
      "outputs": [
        {
          "output_type": "stream",
          "name": "stdout",
          "text": [
            "votre age:30\n",
            "vous etes majeur\n"
          ]
        }
      ]
    },
    {
      "cell_type": "markdown",
      "source": [
        "# Question 13\n",
        " Demandez à l'utilisateur de saisir deux nombres et affichez True si le premier nombre est divisible par le deuxième nombre, sinon affichez False.\n",
        " - Input : \n",
        " - nombre1 = 56\n",
        " - nombre2 = 8"
      ],
      "metadata": {
        "id": "A-bmpB2fcV91"
      }
    },
    {
      "cell_type": "code",
      "source": [
        "#METTRE VOTRE RÉPONSE ICI\n",
        "nombre1_13=int(input('n1:'))\n",
        "nombre2_13=int(input('n2:'))\n",
        "if nombre1_13 % nombre2_13==0:\n",
        "  print('True')\n",
        "else:\n",
        "  print('false')"
      ],
      "metadata": {
        "id": "kAe11fuXc0T1",
        "colab": {
          "base_uri": "https://localhost:8080/"
        },
        "outputId": "43bac20f-4cae-4367-c276-0b737b9d5317"
      },
      "execution_count": null,
      "outputs": [
        {
          "output_type": "stream",
          "name": "stdout",
          "text": [
            "n1:56\n",
            "n2:8\n",
            "True\n"
          ]
        }
      ]
    },
    {
      "cell_type": "markdown",
      "source": [
        "# Question 14\n",
        "Demandez à l'utilisateur de saisir un nombre et affichez True s'il est positif, sinon affichez False.\n",
        "- Input : -4"
      ],
      "metadata": {
        "id": "pH_y6Hjoc0tz"
      }
    },
    {
      "cell_type": "code",
      "source": [
        "#METTRE VOTRE RÉPONSE ICI\n",
        "saisie=int(input('le nombre:'))\n",
        "if saisie>0:\n",
        "  print('True')\n",
        "else:\n",
        "  print('False')"
      ],
      "metadata": {
        "id": "OIwslp9JdHfD",
        "colab": {
          "base_uri": "https://localhost:8080/"
        },
        "outputId": "06675150-d31a-41e5-e692-55b2bfd06541"
      },
      "execution_count": null,
      "outputs": [
        {
          "output_type": "stream",
          "name": "stdout",
          "text": [
            "le nombre:-2\n",
            "False\n"
          ]
        }
      ]
    },
    {
      "cell_type": "markdown",
      "source": [
        "# Question 15\n",
        "Demandez à l'utilisateur de saisir deux nombres et affichez True si la différence entre ces deux nombres est inférieure à 10, sinon affichez False.\n",
        "- Input : \n",
        " - nombre1 = 178\n",
        " - nombre2 = 18"
      ],
      "metadata": {
        "id": "ZuAlZsZ9dH78"
      }
    },
    {
      "cell_type": "code",
      "source": [
        "#METTRE VOTRE RÉPONSE ICI\n",
        "nombre1_15 =int(input('nbre1:'))\n",
        "nombre2_15=int(input('nbre2:'))\n",
        "if nombre1_15-nombre2_15<10:\n",
        "  print('True')\n",
        "else:\n",
        "  print('False')"
      ],
      "metadata": {
        "id": "bLj1uqsMeIAL",
        "colab": {
          "base_uri": "https://localhost:8080/"
        },
        "outputId": "e72a690e-e42d-47c0-fcf9-f7f22a3ba049"
      },
      "execution_count": null,
      "outputs": [
        {
          "output_type": "stream",
          "name": "stdout",
          "text": [
            "nbre1:178\n",
            "nbre2:18\n",
            "False\n"
          ]
        }
      ]
    },
    {
      "cell_type": "markdown",
      "source": [
        "# Question 16\n",
        "Demandez à l'utilisateur de saisir deux nombres et affichez True si leur produit est positif, sinon affichez False.\n",
        "- Input : \n",
        " - nombre1 = -3\n",
        " - nombre2 = 67"
      ],
      "metadata": {
        "id": "wWgWx5Moe2pu"
      }
    },
    {
      "cell_type": "code",
      "source": [
        "#METTRE VOTRE RÉPONSE ICI\n",
        "nombre1_16 = int(input('nombrre1:'))\n",
        "nombre2_16= int(input('nombre2:'))\n",
        "if nombre1_16*nombre2_16>0:\n",
        "  print('True')\n",
        "else:\n",
        "  print('False')"
      ],
      "metadata": {
        "id": "_jxw-51ue_2K",
        "colab": {
          "base_uri": "https://localhost:8080/"
        },
        "outputId": "93229f2a-dee5-4025-f180-b974f8695fed"
      },
      "execution_count": null,
      "outputs": [
        {
          "output_type": "stream",
          "name": "stdout",
          "text": [
            "nombrre1:-3\n",
            "nombre2:67\n",
            "False\n"
          ]
        }
      ]
    },
    {
      "cell_type": "markdown",
      "source": [
        "# Question 17\n",
        "Demandez à l'utilisateur de saisir deux nombres et affichez True si leur somme est paire, sinon affichez False.\n",
        "- Input : \n",
        "  - nombre1 = 97\n",
        "  - nombre2 = 9;"
      ],
      "metadata": {
        "id": "i-VkLtgdfAS3"
      }
    },
    {
      "cell_type": "code",
      "source": [
        "#METTRE VOTRE RÉPONSE ICI\n",
        "nombre1_17 = int(input('nombre1:'))\n",
        "nombre2_17 = int(input('nombre1:'))\n",
        "if (nombre1_17+nombre2_17)%2==0:\n",
        "  print('True')\n",
        "else:\n",
        "  print('False')"
      ],
      "metadata": {
        "id": "weaZuXljfVXE",
        "colab": {
          "base_uri": "https://localhost:8080/"
        },
        "outputId": "39034d44-02c8-42f5-fb73-040c7be7e3b8"
      },
      "execution_count": null,
      "outputs": [
        {
          "output_type": "stream",
          "name": "stdout",
          "text": [
            "nombre1:97\n",
            "nombre1:9\n",
            "True\n"
          ]
        }
      ]
    },
    {
      "cell_type": "markdown",
      "source": [
        "# Question 18\n",
        "Demandez à l'utilisateur de saisir deux nombres et affichez True si leur produit est supérieur à 1000, sinon affichez False.\n",
        "- Input : \n",
        "  - nombre1 = 265\n",
        "  - nombre2 = 291"
      ],
      "metadata": {
        "id": "iKIHxdAvfeHP"
      }
    },
    {
      "cell_type": "code",
      "source": [
        "#METTRE VOTRE RÉPONSE ICI\n",
        "nombre1_18=int(input('nombre1:'))\n",
        "nombre2_18=int(input('nombre2:'))\n",
        "if nombre1_18*nombre2_18>1000:\n",
        "  print('True')\n",
        "else:\n",
        " print('False')"
      ],
      "metadata": {
        "id": "K0Gr1iErfn1L",
        "colab": {
          "base_uri": "https://localhost:8080/"
        },
        "outputId": "7eab57e0-fffb-4f3f-cd33-b8248ba12629"
      },
      "execution_count": 3,
      "outputs": [
        {
          "output_type": "stream",
          "name": "stdout",
          "text": [
            "nombre1:265\n",
            "nombre2:333\n",
            "True\n"
          ]
        }
      ]
    },
    {
      "cell_type": "markdown",
      "source": [
        "# Question 19\n",
        "Demandez à l'utilisateur de saisir deux nombres et affichez True si leur somme est supérieure à 50 et leur produit est inférieur à 500, sinon affichez False.\n",
        "- Input : \n",
        "  - nombre1 = 87\n",
        "  - nombre2 = 9"
      ],
      "metadata": {
        "id": "aOejUTEjfoYr"
      }
    },
    {
      "cell_type": "code",
      "source": [
        "#METTRE VOTRE RÉPONSE ICI\n",
        "nombre1_19=int(input('nombre1:'))\n",
        "nombre2_19=int(input('nombre1:'))\n",
        "if (nombre1_19+nombre2_19)>50 and nombre1_19*nombre2_19 :\n",
        "  print('True')\n",
        "else:\n",
        "  print('False')"
      ],
      "metadata": {
        "id": "3HcrhjJufyjQ",
        "colab": {
          "base_uri": "https://localhost:8080/"
        },
        "outputId": "6a6a9a84-1e33-4ecc-b06a-aae86390563c"
      },
      "execution_count": 4,
      "outputs": [
        {
          "output_type": "stream",
          "name": "stdout",
          "text": [
            "nombre1:87\n",
            "nombre1:9\n",
            "True\n"
          ]
        }
      ]
    },
    {
      "cell_type": "markdown",
      "source": [
        "# Question 20\n",
        "Demandez à l'utilisateur de saisir un nombre et affichez True s'il est divisible par 4 et que son carré est inférieur à 1000, sinon affichez False.\n",
        "- Input : 96"
      ],
      "metadata": {
        "id": "0VrJaKdgfzFP"
      }
    },
    {
      "cell_type": "code",
      "source": [
        "#METTRE VOTRE RÉPONSE ICI\n",
        "nombre1_20=int(input('nombre1:'))\n",
        "if (nombre1_20%4==0) and (nombre1_20*nombre1_20) :\n",
        "  print('True')\n",
        "else:\n",
        "  print('False')\n"
      ],
      "metadata": {
        "id": "kBQxAViMf5Lz",
        "colab": {
          "base_uri": "https://localhost:8080/"
        },
        "outputId": "ed246ab5-4a86-468c-8636-9d8fed4285be"
      },
      "execution_count": 6,
      "outputs": [
        {
          "output_type": "stream",
          "name": "stdout",
          "text": [
            "nombre1:96\n",
            "True\n"
          ]
        }
      ]
    },
    {
      "cell_type": "markdown",
      "source": [
        "# Question 21\n",
        "Demandez à l'utilisateur de saisir deux nombres et affichez True si leur différence est paire ou leur produit est supérieur à 1000, sinon affichez False.\n",
        "- Input : \n",
        "  - nombre1 = 86\n",
        "  - nombre2 = 31"
      ],
      "metadata": {
        "id": "o6-kJSjZf5o0"
      }
    },
    {
      "cell_type": "code",
      "source": [
        "#METTRE VOTRE RÉPONSE ICI\n",
        "nombre1_21=int(input('nombre1:'))\n",
        "nombre2_21=int(input('nombre1:'))\n",
        "if (nombre1_19-nombre2_19)%2==0 or nombre1_21*nombre2_21>1000:\n",
        "  print('True')\n",
        "else:\n",
        "  print('False')\n"
      ],
      "metadata": {
        "id": "rNO9XWaDgEBI",
        "colab": {
          "base_uri": "https://localhost:8080/"
        },
        "outputId": "1536108a-da0f-4ed6-a7b4-2dc95d8a123e"
      },
      "execution_count": 7,
      "outputs": [
        {
          "output_type": "stream",
          "name": "stdout",
          "text": [
            "nombre1:86\n",
            "nombre1:31\n",
            "True\n"
          ]
        }
      ]
    },
    {
      "cell_type": "markdown",
      "source": [
        "# Question 22\n",
        "Demandez à l'utilisateur de saisir un nombre et affichez True si ce nombre est compris entre 20 et 30, sinon affichez False.\n",
        "- Input : 8"
      ],
      "metadata": {
        "id": "6MahLNOxgEdl"
      }
    },
    {
      "cell_type": "code",
      "source": [
        "#METTRE VOTRE RÉPONSE ICI\n",
        "nombre1_22=int(input('nombre1:'))\n",
        "if (nombre1_22 > 20) and (nombre1_22<30) :\n",
        "  print('True')\n",
        "else:\n",
        "  print('False')"
      ],
      "metadata": {
        "id": "Nb_xiqdZgMLD",
        "colab": {
          "base_uri": "https://localhost:8080/"
        },
        "outputId": "ef375de4-5a0d-408e-8c91-ab545503a64d"
      },
      "execution_count": 8,
      "outputs": [
        {
          "output_type": "stream",
          "name": "stdout",
          "text": [
            "nombre1:8\n",
            "False\n"
          ]
        }
      ]
    },
    {
      "cell_type": "markdown",
      "source": [
        "# Question 23\n",
        "Demandez à l'utilisateur de saisir un nombre et affichez True s'il est égal à 0, à 1 ou à 2, sinon affichez False.\n",
        "- Input : 4"
      ],
      "metadata": {
        "id": "8ymvqpoxgMqK"
      }
    },
    {
      "cell_type": "code",
      "source": [
        "#METTRE VOTRE RÉPONSE ICI\n",
        "nombre1_23=int(input('nombre1:'))\n",
        "if nombre1_23 in [0,1,2]:\n",
        "  print('True')\n",
        "else:\n",
        "  print('False')"
      ],
      "metadata": {
        "id": "sVbjxKJkgTrM",
        "colab": {
          "base_uri": "https://localhost:8080/"
        },
        "outputId": "bf114992-9207-40f9-db20-d82b49141c49"
      },
      "execution_count": 9,
      "outputs": [
        {
          "output_type": "stream",
          "name": "stdout",
          "text": [
            "nombre1:4\n",
            "False\n"
          ]
        }
      ]
    },
    {
      "cell_type": "markdown",
      "source": [
        "# Question 24\n",
        "Demandez à l'utilisateur de saisir deux nombres et affichez True si leur somme est égale à leur produit, sinon affichez False.\n",
        "- Input : \n",
        "  - nombre1 = 45\n",
        "  - nombre2 = 95"
      ],
      "metadata": {
        "id": "iCfUoST3gUGq"
      }
    },
    {
      "cell_type": "code",
      "source": [
        "#METTRE VOTRE RÉPONSE ICI\n",
        "nombre1_24=int(input('nombre1:'))\n",
        "nombre2_24=int(input('nombre1:'))\n",
        "if (nombre1_19+nombre2_24)==(nombre1_19*nombre2_24) :\n",
        "  print('True')\n",
        "else:\n",
        "  print('False')"
      ],
      "metadata": {
        "id": "PnR1tWD8gczK",
        "colab": {
          "base_uri": "https://localhost:8080/"
        },
        "outputId": "f6883a23-90e7-4b20-a410-06075bb17a66"
      },
      "execution_count": 10,
      "outputs": [
        {
          "output_type": "stream",
          "name": "stdout",
          "text": [
            "nombre1:45\n",
            "nombre1:95\n",
            "False\n"
          ]
        }
      ]
    }
  ]
}