{
  "cells": [
    {
      "cell_type": "markdown",
      "metadata": {
        "id": "yflbIx9ruTG2"
      },
      "source": [
        "# Description de la table population\n",
        "\n",
        "Il s'agit d'un tableau de données démographiques pour les zones urbaines et rurales du Sénégal de 2000 à 2018. Le tableau comprend les colonnes suivantes :\n",
        "\n",
        "* **zones :** La zone qui est soit urbaine (urban) ou rurale (rural).\n",
        "* **regions :** Le nom de la région au Sénégal.\n",
        "* **Date :** L'année pour laquelle les données sont rapportées.\n",
        "* **Population résidente par zone :** La population totale de la région dans la zone concernée.\n",
        "* **Repartition des ménages par zones**\n",
        "* **Taux d'urbanisation :** Le pourcentage de la population vivant dans des zones urbaines.\n",
        "* **Taille du ménage :** Le nombre moyen de personnes par ménage dans les zones urbaines.\n",
        "\n",
        "Globalement, le tableau montre que la population des zones urbaines au Sénégal croît rapidement. Cette croissance est alimentée par un certain nombre de facteurs, notamment le développement économique, l'amélioration des infrastructures et une demande croissante de services d'éducation et de soins de santé.\n",
        "\n"
      ]
    },
    {
      "cell_type": "code",
      "execution_count": null,
      "metadata": {
        "id": "C7HoS4OHHDZr"
      },
      "outputs": [],
      "source": [
        "# Importer pandas et lire les données de Population.\n",
        "import pandas as pd\n",
        " "
      ]
    },
    {
      "cell_type": "markdown",
      "metadata": {
        "id": "KnIgZYaa1FAi"
      },
      "source": [
        "## Question 1\n",
        "\n",
        "Donner les statistiques de base des variables quantitives puis interpréter les résultats"
      ]
    },
    {
      "cell_type": "code",
      "execution_count": null,
      "metadata": {
        "id": "Eg7qDjze1EBc"
      },
      "outputs": [],
      "source": [
        "# Mettre votre code ici"
      ]
    },
    {
      "cell_type": "markdown",
      "metadata": {
        "id": "dlp_5rtMwVvh"
      },
      "source": [
        "## Question 2\n",
        "Quelle est le nombre de valeurs manquantes dans chaque colonne ?"
      ]
    },
    {
      "cell_type": "code",
      "execution_count": null,
      "metadata": {
        "id": "tHLGsZT5xeUJ"
      },
      "outputs": [],
      "source": [
        "# Mettre votre code ici"
      ]
    },
    {
      "cell_type": "markdown",
      "metadata": {
        "id": "cLOmPON2xe6Z"
      },
      "source": [
        "## Question 3\n",
        "Afficher la taille des ménages dans la zone rurale de la région de Dakar pour l'année 2005"
      ]
    },
    {
      "cell_type": "code",
      "execution_count": null,
      "metadata": {
        "id": "sRrVHtO70x75"
      },
      "outputs": [],
      "source": [
        "# Mettre votre code ici"
      ]
    },
    {
      "cell_type": "markdown",
      "metadata": {
        "id": "Mf-hyrdg2ziS"
      },
      "source": [
        "## Question 4\n",
        "Quelle est la proportion de chaque zone ?"
      ]
    },
    {
      "cell_type": "code",
      "execution_count": null,
      "metadata": {
        "id": "5RqlHmja3WEa"
      },
      "outputs": [],
      "source": [
        "# Mettre votre code ici"
      ]
    },
    {
      "cell_type": "markdown",
      "metadata": {
        "id": "_0RctIzG3W34"
      },
      "source": [
        "## Question 5\n",
        "Quelle est la région avec le plus grand taux d'urbanisation en 2013 ? \n",
        "\n",
        "- **NB :** Ne prenez pas en considération la modalité \"SENEGAL\" comme une région."
      ]
    },
    {
      "cell_type": "code",
      "execution_count": null,
      "metadata": {
        "id": "VjuiBW7e5OZC"
      },
      "outputs": [],
      "source": [
        "# Mettre votre code ici"
      ]
    },
    {
      "cell_type": "markdown",
      "metadata": {
        "id": "Ii_LJUpq5PLz"
      },
      "source": [
        "# Question 6\n",
        "Quelle est la moyenne de la colonne `Population résidente par zone` pour la zone urbaine de la région de `Diourbel` entre 2000 et 2010 ?"
      ]
    },
    {
      "cell_type": "code",
      "execution_count": null,
      "metadata": {
        "id": "HshfT2L25yBr"
      },
      "outputs": [],
      "source": [
        "# Mettre votre code ici"
      ]
    },
    {
      "cell_type": "markdown",
      "metadata": {
        "id": "yAUb36PQ5yrk"
      },
      "source": [
        "## Question 7\n",
        "Quelle est la région avec la plus petite taille de ménage en 2018 ?"
      ]
    },
    {
      "cell_type": "code",
      "execution_count": null,
      "metadata": {
        "id": "_iipjtLQ6Wyj"
      },
      "outputs": [],
      "source": [
        "# Mettre votre code ici"
      ]
    },
    {
      "cell_type": "markdown",
      "metadata": {
        "id": "1V1peS9e6XXb"
      },
      "source": [
        "# Question 8\n",
        "Quelle est la moyenne des tailles des ménages pour chaque année et pour chaque région ?"
      ]
    },
    {
      "cell_type": "code",
      "execution_count": null,
      "metadata": {
        "id": "Ge8rLn_27N9a"
      },
      "outputs": [],
      "source": [
        "# Mettre votre code ici"
      ]
    },
    {
      "cell_type": "markdown",
      "metadata": {
        "id": "bO6JfZ1F7OVr"
      },
      "source": [
        "## Question 9\n",
        "Afficher le maximum de la `Population résidente par zone` des régions de `Dakar`, `Louga` et `Matam`."
      ]
    },
    {
      "cell_type": "code",
      "execution_count": null,
      "metadata": {
        "id": "6z_YFLGv7z88"
      },
      "outputs": [],
      "source": [
        "# Mettre votre code ici"
      ]
    },
    {
      "cell_type": "markdown",
      "metadata": {
        "id": "plfTisQk70oF"
      },
      "source": [
        "## Question 10\n",
        "\n",
        "Ajouter une nouvelle colonne nommée `\"Nombre de menages\"` qui vaut le produit entre la colonne `\"Repartition des ménages par zones\"` et la colonne `\"Taille des ménages\"`. Voir la documentation de [df.eval](https://pandas.pydata.org/docs/reference/api/pandas.DataFrame.eval.html) sur le site de `pandas`."
      ]
    },
    {
      "cell_type": "code",
      "execution_count": null,
      "metadata": {
        "id": "yXVGVDLH8xO5"
      },
      "outputs": [],
      "source": [
        "# Mettre votre code ici"
      ]
    },
    {
      "cell_type": "markdown",
      "metadata": {
        "id": "E7k0R4M68yMN"
      },
      "source": [
        "## Question 11\n",
        " Quelle est la corrélation entre la colonne `\"Repartition des ménages par zones\"` et `\"Taille des ménages\"` ?"
      ]
    },
    {
      "cell_type": "code",
      "execution_count": null,
      "metadata": {
        "id": "tU00NIo09d3e"
      },
      "outputs": [],
      "source": [
        "# Mettre votre code ici"
      ]
    },
    {
      "cell_type": "markdown",
      "metadata": {
        "id": "AQiqVeL49eQp"
      },
      "source": [
        "## Question 12\n",
        "\n",
        "Un ménage est dit grand si sa taille est supérieure ou égale à 8. En utilisant l'attribut [df.apply](https://pandas.pydata.org/docs/reference/api/pandas.DataFrame.apply.html) de pandas ou [np.where](https://numpy.org/doc/stable/reference/generated/numpy.where.html),\n",
        "ajoutez une nouvelle colonne nommée `Statut` qui contient la modalité \"grand\" si `\"Taille des ménages\" > 8` et \"petit\" si `\"Taille des ménages\" < 8`"
      ]
    },
    {
      "cell_type": "code",
      "execution_count": null,
      "metadata": {
        "id": "Lb3Xydmw-vk8"
      },
      "outputs": [],
      "source": [
        "# Mettre votre code ici"
      ]
    },
    {
      "cell_type": "markdown",
      "metadata": {
        "id": "HzlrNnweCe-D"
      },
      "source": [
        "## Question 13\n",
        "Quelle est la moyenne de `\"Taille des ménages\"` dans la zone rurale et dans la zone urbaine ? Quelle interprétation pouvez-vous donner à ces résultats ?"
      ]
    },
    {
      "cell_type": "code",
      "execution_count": null,
      "metadata": {
        "id": "Ox1Paq0gFvhV"
      },
      "outputs": [],
      "source": [
        "# Mettre votre code ici"
      ]
    },
    {
      "cell_type": "markdown",
      "metadata": {
        "id": "N9-rWG4NFwNE"
      },
      "source": [
        "## Question 14\n",
        "\n",
        "Quell est le nombre de ménages \"grand\" et la nombre de ménages \"petit\" ? (Cela revient à compter le nombre de valeurs uniques de la colonne `\"Statut\"`)"
      ]
    },
    {
      "cell_type": "code",
      "execution_count": null,
      "metadata": {
        "id": "crcPJPttGHTA"
      },
      "outputs": [],
      "source": [
        "# Mettre votre code ici"
      ]
    },
    {
      "cell_type": "markdown",
      "metadata": {
        "id": "xhFXMJgOGMCw"
      },
      "source": [
        "# Question 15\n",
        "En 2018, quel est le taux d'urbainisation des régions de Kolda et de Dakar qui se trouve être la capitale du Sénégal ? Qu'est-ce qui peut expliquer cette différence importante ?"
      ]
    },
    {
      "cell_type": "code",
      "execution_count": null,
      "metadata": {
        "id": "EQhgMr39G3DI"
      },
      "outputs": [],
      "source": [
        "# Mettre votre code ici"
      ]
    },
    {
      "cell_type": "markdown",
      "metadata": {
        "id": "PUAm5McBHkR6"
      },
      "source": [
        "## Question 16\n",
        "Compter le nombre de valeurs uniques dans chaque variables (colonnes) qualitatives."
      ]
    },
    {
      "cell_type": "code",
      "execution_count": null,
      "metadata": {
        "id": "OzQL8OVuHlt7"
      },
      "outputs": [],
      "source": [
        "# Mettre votre code ici"
      ]
    }
  ],
  "metadata": {
    "colab": {
      "provenance": []
    },
    "kernelspec": {
      "display_name": "Python 3",
      "name": "python3"
    },
    "language_info": {
      "name": "python"
    }
  },
  "nbformat": 4,
  "nbformat_minor": 0
}
