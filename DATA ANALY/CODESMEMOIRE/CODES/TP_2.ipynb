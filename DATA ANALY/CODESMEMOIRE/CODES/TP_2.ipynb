{
  "cells": [
    {
      "attachments": {},
      "cell_type": "markdown",
      "metadata": {
        "id": "REXWesD_tfG7"
      },
      "source": [
        "# Indication \n",
        "***Dans la suite de ce TP vous aurez besoin de cette fonction. Veuillez exécuter la cellule de code suivante.***\n",
        "\n",
        "## Question \n",
        "Un nombre premier est un nombre entier naturel (non nul) qui admet exactement 2 diviseurs distincts : 1 et lui-même. En d'autres termes, c'est un nombre entier (sans virgule), plus grand que 1, et qui ne peut être divisé que par 1 et par lui-même.\n",
        "\n",
        "**Écrire une fonction `est_premier` qui prend en entrée un nombre entier et renvoie `True` s'il est premier, sinon `False`.**\n",
        "\n",
        "- Vérifier si **179** est premier en utilisant votre fonction.\n",
        "\n",
        "## Réponse \n",
        "\n",
        "Voici le code de la fonction `est_premier` avec des commentaires pour expliquer son fonctionnement:\n",
        "\n",
        "Cette fonction prend en entrée un nombre entier `n` et renvoie `True` s'il est premier, sinon `False`. Elle commence par vérifier si `n` est inférieur ou égal à 1, auquel cas il n'est pas premier. Ensuite, elle vérifie si `n` est divisible par un nombre entier compris entre 2 et la racine carrée de `n`. Si c'est le cas, `n` n'est pas premier. Si aucune des conditions précédentes n'a été remplie, `n` est premier.\n",
        "\n",
        "Cela renvoie `True`, ce qui signifie que 179 est un nombre premier."
      ]
    },
    {
      "cell_type": "code",
      "execution_count": 7,
      "metadata": {
        "id": "1W67hWr7uLLx"
      },
      "outputs": [],
      "source": [
        "# Definition de la fonction\n",
        "def est_premier(n):\n",
        "    # Si n est inférieur ou égal à 1, il n'est pas premier\n",
        "    if n <= 1:\n",
        "        return False\n",
        "    # On vérifie si n est divisible par un nombre entier compris entre 2 et la racine carrée de n\n",
        "    for i in range(2, int(n ** 0.5) + 1):\n",
        "        # Si n est divisible par i, il n'est pas premier\n",
        "        if n % i == 0:\n",
        "            return False\n",
        "    # Si aucune des conditions précédentes n'a été remplie, n est premier\n",
        "    return True"
      ]
    },
    {
      "cell_type": "code",
      "execution_count": 8,
      "metadata": {
        "colab": {
          "base_uri": "https://localhost:8080/"
        },
        "id": "t4mpI1pnuvGK",
        "outputId": "144505ff-bce8-4d06-9d59-05989925264f"
      },
      "outputs": [
        {
          "data": {
            "text/plain": [
              "True"
            ]
          },
          "execution_count": 8,
          "metadata": {},
          "output_type": "execute_result"
        }
      ],
      "source": [
        "# Test de la fonction\n",
        "est_premier(179)"
      ]
    },
    {
      "attachments": {},
      "cell_type": "markdown",
      "metadata": {
        "id": "ZWuAsBismfFN"
      },
      "source": [
        "# Question 1\n",
        "Écrire une boucle qui prend en entrée une chaîne de caractères et affiche chaque caractère de cette chaîne un par un.\n",
        "\n",
        "- Tester le programe avec `mot = \"afficheur\"`"
      ]
    },
    {
      "cell_type": "code",
      "execution_count": 9,
      "metadata": {
        "colab": {
          "base_uri": "https://localhost:8080/"
        },
        "id": "Bjq3h4IS1r93",
        "outputId": "ff94cb55-8188-46ef-f08f-2381fca8f087"
      },
      "outputs": [],
      "source": [
        "# Mettre votre réponse\n",
        "mot=input('le mot:')\n",
        "if type(mot)!=str:\n",
        "  print('le mot n''est pas une chaine de caractere:' )\n",
        "for i in mot:\n",
        "    print(i)"
      ]
    },
    {
      "attachments": {},
      "cell_type": "markdown",
      "metadata": {
        "id": "vQ4RZaTzkCrs"
      },
      "source": [
        "# Question 2\n",
        "\n",
        "Écrire une fonction `prod_table(n)` qui prend en entrée un nombre entier `n` et affiche la table de multiplication  jusqu'à 10 de `n`.\n",
        "- Tester `prod_table(9)`\n",
        "\n"
      ]
    },
    {
      "cell_type": "code",
      "execution_count": 10,
      "metadata": {
        "id": "qWPVspr7k8tU"
      },
      "outputs": [],
      "source": [
        "# Mettre votre réponse\n",
        "def prod_table(n):\n",
        "  if type(n) !=str:\n",
        "    print( 'n doit etre un entier:')\n",
        "  for i in range(1,11):\n",
        "    print(f\"{i} * {n} = {i*n}\")\n",
        "    "
      ]
    },
    {
      "cell_type": "code",
      "execution_count": 11,
      "metadata": {
        "colab": {
          "base_uri": "https://localhost:8080/"
        },
        "id": "hh9u44oeGRQV",
        "outputId": "9bcea2cf-e587-4178-8bc4-e1a88b33d2d6"
      },
      "outputs": [
        {
          "name": "stdout",
          "output_type": "stream",
          "text": [
            "n doit etre un entier:\n",
            "1 * 5 = 5\n",
            "2 * 5 = 10\n",
            "3 * 5 = 15\n",
            "4 * 5 = 20\n",
            "5 * 5 = 25\n",
            "6 * 5 = 30\n",
            "7 * 5 = 35\n",
            "8 * 5 = 40\n",
            "9 * 5 = 45\n",
            "10 * 5 = 50\n"
          ]
        }
      ],
      "source": [
        "prod_table(5)"
      ]
    },
    {
      "attachments": {},
      "cell_type": "markdown",
      "metadata": {
        "id": "AJokgWF5mAqw"
      },
      "source": [
        "# Question 3\n",
        "Écrire une boucle qui prend en entrée une chaîne de caractères et renvoie le nombre de voyelles dans cette chaîne.\n",
        "\n",
        "- Tester votre programme avec `mot = \"regarder\"`"
      ]
    },
    {
      "cell_type": "code",
      "execution_count": 12,
      "metadata": {
        "colab": {
          "base_uri": "https://localhost:8080/"
        },
        "id": "htoSVbgw4ajk",
        "outputId": "b479bc72-a87f-40a8-b48a-8c14a887da1a"
      },
      "outputs": [
        {
          "name": "stdout",
          "output_type": "stream",
          "text": [
            "3\n"
          ]
        }
      ],
      "source": [
        "# Mettre votre réponse\n",
        "mot=\"regarder\"\n",
        "voy='aeiou'\n",
        "c=0\n",
        "for i in mot:\n",
        "  if i in voy:\n",
        "    c=c+1\n",
        "print(c)\n"
      ]
    },
    {
      "attachments": {},
      "cell_type": "markdown",
      "metadata": {
        "id": "aMaUD1ShlWer"
      },
      "source": [
        "# Question 4\n",
        "\n",
        "Écrire une fonction `fibonacci(n)` qui prend en entrée un nombre entier `n` et renvoie le n-ième nombre de la suite de Fibonacci. La suite de Fibonacci est définie par la relation de récurrence suivante: `F(0) = 0`, `F(1) = 1` et `F(n) = F(n-1) + F(n-2)` pour tout `n >= 2`.\n",
        "\n",
        "Voici un exemple d'utilisation de cette fonction:\n",
        "\n",
        "```python\n",
        ">>> fibonacci(3)\n",
        "2\n",
        ">>> fibonacci(4)\n",
        "3\n",
        ">>> fibonacci(5)\n",
        "5\n",
        "```\n",
        "\n",
        "- Tester `fibonacci(15)`"
      ]
    },
    {
      "cell_type": "code",
      "execution_count": 13,
      "metadata": {
        "colab": {
          "base_uri": "https://localhost:8080/"
        },
        "id": "m7jegmmS1x3i",
        "outputId": "490380e6-e3ab-43e4-929d-98edf5441a1f"
      },
      "outputs": [
        {
          "data": {
            "text/plain": [
              "610"
            ]
          },
          "execution_count": 13,
          "metadata": {},
          "output_type": "execute_result"
        }
      ],
      "source": [
        "# Mettre votre réponse\n",
        "def fibonacci(n):\n",
        "    if n <= 1:\n",
        "        return n\n",
        "    else:\n",
        "        return fibonacci(n-1) + fibonacci(n-2)\n",
        "\n",
        "fibonacci(15)"
      ]
    },
    {
      "attachments": {},
      "cell_type": "markdown",
      "metadata": {
        "id": "8VwFV6PEnU82"
      },
      "source": [
        "# Question 5\n",
        "Écrire une boucle qui qui permer de calculer la somme des 100 premier nombre entier."
      ]
    },
    {
      "cell_type": "code",
      "execution_count": 14,
      "metadata": {
        "colab": {
          "base_uri": "https://localhost:8080/"
        },
        "id": "K8s7DBXK1zMx",
        "outputId": "aca8ad06-d044-4df4-cc51-07b01d0e92b9"
      },
      "outputs": [
        {
          "name": "stdout",
          "output_type": "stream",
          "text": [
            "5050\n"
          ]
        }
      ],
      "source": [
        "# Mettre votre réponse\n",
        "n=0\n",
        "somme=0\n",
        "while n <= 100:\n",
        "  somme+=n\n",
        "  n=n+1\n",
        "print(somme)"
      ]
    },
    {
      "attachments": {},
      "cell_type": "markdown",
      "metadata": {
        "id": "rtmlKrR6ocp0"
      },
      "source": [
        "# Question 6\n",
        "\n",
        "Écrire une boucle `while` qui affiche les 10 premiers nombres entiers."
      ]
    },
    {
      "cell_type": "code",
      "execution_count": 15,
      "metadata": {
        "colab": {
          "base_uri": "https://localhost:8080/"
        },
        "id": "BlroYaST100M",
        "outputId": "34d3e711-14de-4d90-ca2d-37e3c3bc49fe"
      },
      "outputs": [
        {
          "name": "stdout",
          "output_type": "stream",
          "text": [
            "0\n",
            "1\n",
            "2\n",
            "3\n",
            "4\n",
            "5\n",
            "6\n",
            "7\n",
            "8\n",
            "9\n"
          ]
        }
      ],
      "source": [
        "# Mettre votre réponse\n",
        "N=0\n",
        "while N<10:\n",
        "  print(N)\n",
        "  N+=1"
      ]
    },
    {
      "attachments": {},
      "cell_type": "markdown",
      "metadata": {
        "id": "hQt0VSWT16ks"
      },
      "source": [
        "# Question 7\n",
        "Ecrire une fonction `est_palindrome(mot)` qui vérifie si un mot passé en argument de la fonction est un palindrome ou pas. La fonction retourne True si le mot est un palindrome est False sinon.\n",
        "\n",
        "*Un palindrome est un mot, une phrase ou une séquence qui se lit de la même manière à l’envers comme à l’endroit. Par exemple, les mots “kayak” et “radar” sont des palindromes, tout comme la phrase “Ésope reste ici et se repose”.*\n",
        "\n",
        "- Tester `est_palindrome(\"Laval\")`"
      ]
    },
    {
      "cell_type": "code",
      "execution_count": 16,
      "metadata": {
        "colab": {
          "base_uri": "https://localhost:8080/"
        },
        "id": "KE7DLOf94QkC",
        "outputId": "dab49fb9-ade4-44a2-c13d-dc5d067cdbee"
      },
      "outputs": [
        {
          "data": {
            "text/plain": [
              "False"
            ]
          },
          "execution_count": 16,
          "metadata": {},
          "output_type": "execute_result"
        }
      ],
      "source": [
        "# Mettre votre réponse\n",
        "def est_palindrome(mot):\n",
        "    mot = mot.lower()\n",
        "    for i in range(len(mot)//2):\n",
        "        if mot[i] != mot[len(mot)-i-1]:\n",
        "            return False\n",
        "    return True\n",
        "\n",
        "est_palindrome(\"Lavals\")"
      ]
    },
    {
      "attachments": {},
      "cell_type": "markdown",
      "metadata": {
        "id": "erdFXs8RopAn"
      },
      "source": [
        "# Question 8\n",
        "Écrire une boucle `while` qui affiche les 10 premiers nombres pairs."
      ]
    },
    {
      "cell_type": "code",
      "execution_count": 17,
      "metadata": {
        "colab": {
          "base_uri": "https://localhost:8080/"
        },
        "id": "HajXrN9112IL",
        "outputId": "8e45337b-97fb-4bc0-f84c-dba6b9471b1d"
      },
      "outputs": [
        {
          "name": "stdout",
          "output_type": "stream",
          "text": [
            "0\n",
            "2\n",
            "4\n",
            "6\n",
            "8\n",
            "10\n"
          ]
        }
      ],
      "source": [
        "# Mettre votre réponse\n",
        "nombres = 0\n",
        "while nombres<=10:\n",
        "  if nombres%2==0:\n",
        "    print(nombres)\n",
        "  nombres+=1\n"
      ]
    },
    {
      "attachments": {},
      "cell_type": "markdown",
      "metadata": {
        "id": "TjEXWNtWpD1C"
      },
      "source": [
        "# Question 9\n",
        "\n",
        "En utilisant la fonction `range()` vu lors du cours, afficher la séquence de tous les nombres entre $-10$ et $6$ par pas de $2$."
      ]
    },
    {
      "cell_type": "code",
      "execution_count": 18,
      "metadata": {
        "colab": {
          "base_uri": "https://localhost:8080/"
        },
        "id": "KfhDtpV113SG",
        "outputId": "3234cfe4-88e9-449e-c50e-c4c4e39ca156"
      },
      "outputs": [
        {
          "data": {
            "text/plain": [
              "[-10, -8, -6, -4, -2, 0, 2, 4]"
            ]
          },
          "execution_count": 18,
          "metadata": {},
          "output_type": "execute_result"
        }
      ],
      "source": [
        "# Mettre votre réponse\n",
        "[i for i in range(-10,6,2)]"
      ]
    },
    {
      "attachments": {},
      "cell_type": "markdown",
      "metadata": {
        "id": "yndNRiwdqZc5"
      },
      "source": [
        "# Question 10\n",
        "*En Python, il existe la fonction prédéfinie `abs()` pour calculer la valeur absolue d'un nombre. Cette fonction prend en entrée un nombre (entier ou flottant) et renvoie sa valeur absolue.*\n",
        "\n",
        "**Ecrire votre propre fonction nommée `val_absolue(n)` qui prend en paramètre un nombre un nombre et qui renvoit la valeur absolue de ce nombre.**\n",
        "\n",
        "la valeur absolue d’un nombre réel est sa valeur numérique considérée sans tenir compte de son signe. Par exemple, la valeur absolue de -4 est 4, et celle de +4 est 4.\n",
        "\n",
        "- Tester la fonction `val_absolue(-12)`"
      ]
    },
    {
      "cell_type": "code",
      "execution_count": 19,
      "metadata": {
        "id": "Eyit7JOL14Mg"
      },
      "outputs": [],
      "source": [
        "# Mettre votre réponse\n",
        "def val_absolue(teste):\n",
        "  if teste<=0:\n",
        "    print(f\"la valeur absolue de {teste} est: {-teste}\")\n",
        "  else:\n",
        "    print(f\"la valeur absolue de {teste} est:{teste}\")"
      ]
    },
    {
      "cell_type": "code",
      "execution_count": 20,
      "metadata": {
        "colab": {
          "base_uri": "https://localhost:8080/"
        },
        "id": "fUHpu1riPJJv",
        "outputId": "2b2c7797-88be-4e18-9b8f-15bb4d3f15da"
      },
      "outputs": [
        {
          "name": "stdout",
          "output_type": "stream",
          "text": [
            "la valeur absolue de -2 est: 2\n"
          ]
        }
      ],
      "source": [
        "val_absolue(-2)"
      ]
    },
    {
      "attachments": {},
      "cell_type": "markdown",
      "metadata": {
        "id": "UJV0lTdXJgLf"
      },
      "source": [
        "# Question 11\n",
        "Écrire une fonction `factoriel` qui prend en entrée un nombre entier et renvoie sa factorielle. \n",
        "- Tester la fonction en calculant le factoriel $6$.\n",
        "\n",
        "Le factoriel d'un nombre entier non négatif `n`, noté `n!`, est le produit de tous les nombres entiers positifs inférieurs ou égaux à `n`. Par exemple, **5! = 5 × 4 × 3 × 2 × 1 = 120**. Le factoriel de 0 est défini comme étant égal à 1.\n"
      ]
    },
    {
      "cell_type": "code",
      "execution_count": 21,
      "metadata": {
        "id": "qGUsA7eKJST_"
      },
      "outputs": [],
      "source": [
        "# Mettre votre réponse\n",
        "def factoriel(n):\n",
        "  if n<0:\n",
        "    print(\"le nombre est negative:\")\n",
        "  fac=1\n",
        "  i=1\n",
        "  while i<n+1:\n",
        "    fac*=i\n",
        "    i+=1\n",
        "  print(fac)\n"
      ]
    },
    {
      "cell_type": "code",
      "execution_count": 22,
      "metadata": {
        "colab": {
          "base_uri": "https://localhost:8080/"
        },
        "id": "F1siDiJFR02B",
        "outputId": "0cd0f356-00a0-4d5f-b029-ed9eb73833ac"
      },
      "outputs": [
        {
          "name": "stdout",
          "output_type": "stream",
          "text": [
            "120\n"
          ]
        }
      ],
      "source": [
        "factoriel(5)"
      ]
    },
    {
      "attachments": {},
      "cell_type": "markdown",
      "metadata": {
        "id": "T9ZQON8Ndbg_"
      },
      "source": [
        "# Question 12\n",
        "Écrire une fonction nommée `sum_digits` qui prend en entrée un nombre entier et renvoie la somme de ses chiffres. \n",
        "- Vous pouvez tester votre fonction avec le nombre **$1345$**.\n"
      ]
    },
    {
      "cell_type": "code",
      "execution_count": 23,
      "metadata": {
        "id": "argvCjltdqqQ"
      },
      "outputs": [],
      "source": [
        "# Mettre votre réponse\n",
        "def sum_digits(n):\n",
        "  s=str(n)\n",
        "  l=[]\n",
        "  for i in s:\n",
        "    l.append(int(i))\n",
        "  print(sum(l))"
      ]
    },
    {
      "cell_type": "code",
      "execution_count": 24,
      "metadata": {
        "colab": {
          "base_uri": "https://localhost:8080/"
        },
        "id": "Wvz1QEGcYbsl",
        "outputId": "c03e7c95-53f1-4652-c985-7bdb9fec531c"
      },
      "outputs": [
        {
          "name": "stdout",
          "output_type": "stream",
          "text": [
            "18\n"
          ]
        }
      ],
      "source": [
        "sum_digits(13455)"
      ]
    },
    {
      "attachments": {},
      "cell_type": "markdown",
      "metadata": {
        "id": "VZgV4QXLVMqM"
      },
      "source": [
        "# Question 13\n",
        "Écrire une fonction `sum_square(n)` qui prend en entrée un nombre entier `n` et renvoie la somme des carrés des `n` premiers nombres entiers.\n",
        "- Tester `sum_square(10)`"
      ]
    },
    {
      "cell_type": "code",
      "execution_count": 25,
      "metadata": {
        "id": "9-xnpNM21i6Y"
      },
      "outputs": [],
      "source": [
        "# Mettre votre réponse\n",
        "def sum_square(n):\n",
        "  i=0\n",
        "  carre=0\n",
        "  while i < n :\n",
        "    carre+=i*i\n",
        "    i+=1\n",
        "  print(carre)\n"
      ]
    },
    {
      "cell_type": "code",
      "execution_count": 26,
      "metadata": {
        "colab": {
          "base_uri": "https://localhost:8080/"
        },
        "id": "nRLdoBnbbFGc",
        "outputId": "93c7d9c1-7124-4e5a-860f-1ef68acc81fe"
      },
      "outputs": [
        {
          "name": "stdout",
          "output_type": "stream",
          "text": [
            "285\n"
          ]
        }
      ],
      "source": [
        "sum_square(10)"
      ]
    },
    {
      "attachments": {},
      "cell_type": "markdown",
      "metadata": {
        "id": "I3yitQwoWkpB"
      },
      "source": [
        "# Question 14\n",
        "**Écrire une fonction `pgcd` qui prend en entrée deux nombres entiers et renvoie leur plus grand commun diviseur.**\n",
        "\n",
        "En arithmétique élémentaire, le plus grand commun diviseur ou PGCD de deux nombres entiers non nuls est le plus grand entier qui les divise simultanément. Par exemple, le PGCD de 20 et de 30 est 10, puisque leurs diviseurs communs sont 1, 2, 5 et 10.\n",
        "\n",
        "- Tester votre fonction en trouvant le `pgcd(45,90)`\n"
      ]
    },
    {
      "cell_type": "code",
      "execution_count": 27,
      "metadata": {
        "id": "onNANRx_1kgH"
      },
      "outputs": [],
      "source": [
        "# Mettre votre réponse\n",
        "def pgcd(n1,n2):\n",
        "  L=[]\n",
        "  for i in range(1,n1):\n",
        "    if n1%i==0 and n2%i==0:\n",
        "      L.append(i)\n",
        "  print(max(L))\n",
        "\n",
        "      "
      ]
    },
    {
      "cell_type": "code",
      "execution_count": 28,
      "metadata": {
        "colab": {
          "base_uri": "https://localhost:8080/"
        },
        "id": "W7949B7pgJs3",
        "outputId": "cc65ad7c-b28a-43b3-f5cf-0c38897a4314"
      },
      "outputs": [
        {
          "name": "stdout",
          "output_type": "stream",
          "text": [
            "10\n"
          ]
        }
      ],
      "source": [
        "pgcd(20,30)"
      ]
    },
    {
      "attachments": {},
      "cell_type": "markdown",
      "metadata": {
        "id": "bXTmDh9aahJw"
      },
      "source": [
        "# Question 15\n",
        "Écrire une fonction `sum_prime` qui prend en entrée un nombre entier et renvoie la somme de tous les nombres premiers inférieurs à ce nombre. \n",
        "- Indication : Dans cette nouvelle fonction,  vous pouvez utiliser la fonction `est_premier()` donnée en indication en début de ce TP. \n",
        "- Tester la fonction `sum_prime(45)`."
      ]
    },
    {
      "cell_type": "code",
      "execution_count": 29,
      "metadata": {
        "id": "nWNqVL6B1liV"
      },
      "outputs": [],
      "source": [
        "# Mettre votre réponse\n",
        "def sum_prime(nn):\n",
        "  s=0\n",
        "  for i in range(1,nn):\n",
        "    if est_premier(i)==True:\n",
        "      s+=i\n",
        "  print(s)\n",
        "  \n"
      ]
    },
    {
      "cell_type": "code",
      "execution_count": 30,
      "metadata": {
        "colab": {
          "base_uri": "https://localhost:8080/"
        },
        "id": "ShWZnXQUlZhb",
        "outputId": "9a89b2dd-7f48-4dc3-c881-a0a88c5891f6"
      },
      "outputs": [
        {
          "name": "stdout",
          "output_type": "stream",
          "text": [
            "281\n"
          ]
        }
      ],
      "source": [
        "sum_prime(45)"
      ]
    },
    {
      "attachments": {},
      "cell_type": "markdown",
      "metadata": {
        "id": "RbGSjRCgcbpF"
      },
      "source": [
        "# Question 16\n",
        "**Écrire une fonction `count_digits` qui prend en entrée un nombre entier et renvoie le nombre de chiffres dans ce nombre.**\n",
        "- Tester la fonction avec le nombre $-1789$"
      ]
    },
    {
      "cell_type": "code",
      "execution_count": 31,
      "metadata": {
        "colab": {
          "base_uri": "https://localhost:8080/"
        },
        "id": "SgM3Cib91mTM",
        "outputId": "08fa9b72-88fb-4eb9-e3d8-dd5d2cc311df"
      },
      "outputs": [
        {
          "name": "stdout",
          "output_type": "stream",
          "text": [
            "4\n"
          ]
        }
      ],
      "source": [
        "# Mettre votre réponse\n",
        "def count_digits(b):\n",
        "  ss=str(b)\n",
        "  print(len(ss))\n",
        "\n",
        "count_digits(1789)"
      ]
    },
    {
      "attachments": {},
      "cell_type": "markdown",
      "metadata": {
        "id": "QTyjeAbQd9Nl"
      },
      "source": [
        "# Question 17\n",
        "\n",
        "Écrire une fonction `diviseurs` qui prend en entrée un nombre entier et renvoie le nombre de diviseurs de ce nombre.\n",
        "\n",
        "En arithmétique, un diviseur d'un entier `n` est un entier dont `n` est un multiple. Plus formellement, si `d` et `n` sont deux entiers, `d` est un diviseur de `n` seulement s'il existe un entier `k` tel que `d * k = n`. Par exemple, 2 est un diviseur de 10 car `2 * 5 = 10` ².\n",
        "\n",
        "- Tester votre fonction `diviseurs(98)`."
      ]
    },
    {
      "cell_type": "code",
      "execution_count": 32,
      "metadata": {
        "colab": {
          "base_uri": "https://localhost:8080/"
        },
        "id": "8Uvgxmkzeszg",
        "outputId": "7ca40d53-4d4f-4fbf-8e3f-f9fcc9f3b604"
      },
      "outputs": [
        {
          "name": "stdout",
          "output_type": "stream",
          "text": [
            "8\n"
          ]
        }
      ],
      "source": [
        "# Mettre votre réponse\n",
        "def diviseur(bb):\n",
        "  d=0\n",
        "  for i in range(1,bb):\n",
        "    if bb%i==0:\n",
        "      d=d+1\n",
        "  print(d)\n",
        "\n",
        "diviseur(100)\n"
      ]
    },
    {
      "attachments": {},
      "cell_type": "markdown",
      "metadata": {
        "id": "vkh5wlbUetzP"
      },
      "source": [
        "# Question 18\n",
        "Écrire une fonction `pgd_premier` qui prend en entrée un nombre entier et renvoie le plus petit diviseur premier de ce nombre.\n",
        "- Indication : Vous pouvez utiliser la fonction `est_premier` donnée en indication au debut de ce TP.\n",
        "- Tester la fonction `pgd_premier(26)`."
      ]
    },
    {
      "cell_type": "code",
      "execution_count": 33,
      "metadata": {
        "colab": {
          "base_uri": "https://localhost:8080/"
        },
        "id": "ayODdbqA1oFR",
        "outputId": "0d39616a-2cbe-487d-ecdb-099f8596ff65"
      },
      "outputs": [
        {
          "name": "stdout",
          "output_type": "stream",
          "text": [
            "liste = [2, 3, 5, 7, 11, 13, 17, 19, 23] et min_liste = 2\n"
          ]
        }
      ],
      "source": [
        "# Mettre votre réponse\n",
        "def pgd_premier(nb):\n",
        "   s=[]\n",
        "   for i in range(1,nb):\n",
        "    if est_premier(i)==True:\n",
        "      s.append(i)\n",
        "   print(f\"liste = {s} et min_liste = {min(s)}\")\n",
        "\n",
        "pgd_premier(26)\n"
      ]
    },
    {
      "attachments": {},
      "cell_type": "markdown",
      "metadata": {
        "id": "-CRhRV34gCNN"
      },
      "source": [
        "# Question 19\n",
        "Écrire une fonction `somme_diviseurs` qui prend en entrée un nombre entier et renvoie la somme des diviseurs de ce nombre.\n",
        "- Tester `somme_diviseurs(30)`\n"
      ]
    },
    {
      "cell_type": "code",
      "execution_count": 34,
      "metadata": {
        "colab": {
          "base_uri": "https://localhost:8080/"
        },
        "id": "W03jD2xP1pJ9",
        "outputId": "100a82b7-2a4c-413e-8e8e-4e73d9502086"
      },
      "outputs": [
        {
          "name": "stdout",
          "output_type": "stream",
          "text": [
            "42\n",
            "[1, 2, 3, 5, 6, 10, 15]\n"
          ]
        }
      ],
      "source": [
        "# Mettre votre réponse\n",
        "def somme_diviseurs(div):\n",
        "  so=0\n",
        "  L=[]\n",
        "  for i in range(1,div):\n",
        "    if div%i==0:\n",
        "      L.append(i)\n",
        "      so=so+i\n",
        "  print(so)\n",
        "  print(L)\n",
        "\n",
        "somme_diviseurs(30)"
      ]
    },
    {
      "attachments": {},
      "cell_type": "markdown",
      "metadata": {
        "id": "6NEQfcJPgZYU"
      },
      "source": [
        "# Question 20\n",
        "Écrire une fonction `pg_palindrome` qui prend en entrée un nombre entier `n` et renvoie le plus grand palindrome inférieur à `n`.\n",
        "\n",
        "Un nombre palindrome est un nombre qui peut se lire dans les deux sens, c’est-à-dire que la séquence de ses chiffres est la même lorsqu’il est lu de droite à gauche ou de gauche à droite. Par exemple, les nombres 121, 4884 et 12321 sont des nombres palindromes.\n",
        "- Tester `pg_palindrome(160)`\n"
      ]
    },
    {
      "cell_type": "code",
      "execution_count": 35,
      "metadata": {
        "colab": {
          "base_uri": "https://localhost:8080/"
        },
        "id": "PHfB7IQe1qSU",
        "outputId": "7ee68140-3bfe-42eb-ad73-620264058e11"
      },
      "outputs": [
        {
          "data": {
            "text/plain": [
              "151"
            ]
          },
          "execution_count": 35,
          "metadata": {},
          "output_type": "execute_result"
        }
      ],
      "source": [
        "# Mettre votre réponse\n",
        "def pg_palindrome(n):\n",
        "    for i in range(n-1, 0, -1):\n",
        "        if str(i) == str(i)[::-1]:\n",
        "            return i\n",
        "    return None\n",
        "\n",
        "pg_palindrome(160)"
      ]
    }
  ],
  "metadata": {
    "colab": {
      "provenance": []
    },
    "kernelspec": {
      "display_name": "Python 3",
      "name": "python3"
    },
    "language_info": {
      "codemirror_mode": {
        "name": "ipython",
        "version": 3
      },
      "file_extension": ".py",
      "mimetype": "text/x-python",
      "name": "python",
      "nbconvert_exporter": "python",
      "pygments_lexer": "ipython3",
      "version": "3.9.12"
    }
  },
  "nbformat": 4,
  "nbformat_minor": 0
}
