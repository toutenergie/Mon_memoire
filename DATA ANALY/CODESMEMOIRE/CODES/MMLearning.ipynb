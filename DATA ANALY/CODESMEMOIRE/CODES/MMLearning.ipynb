{
 "cells": [
  {
   "cell_type": "code",
   "execution_count": 1,
   "metadata": {},
   "outputs": [],
   "source": [
    "import pandas as pd\n",
    "import numpy as np\n",
    "import matplotlib.pyplot as plt\n",
    "from sklearn.linear_model import SGDRegressor"
   ]
  },
  {
   "cell_type": "code",
   "execution_count": 2,
   "metadata": {},
   "outputs": [],
   "source": [
    "absence=['na','-','I']\n",
    "bokhol=pd.read_excel('basedonnees.xlsx',na_values=absence,parse_dates=True,index_col=[0])"
   ]
  },
  {
   "cell_type": "code",
   "execution_count": 3,
   "metadata": {},
   "outputs": [
    {
     "data": {
      "text/html": [
       "<div>\n",
       "<style scoped>\n",
       "    .dataframe tbody tr th:only-of-type {\n",
       "        vertical-align: middle;\n",
       "    }\n",
       "\n",
       "    .dataframe tbody tr th {\n",
       "        vertical-align: top;\n",
       "    }\n",
       "\n",
       "    .dataframe thead th {\n",
       "        text-align: right;\n",
       "    }\n",
       "</style>\n",
       "<table border=\"1\" class=\"dataframe\">\n",
       "  <thead>\n",
       "    <tr style=\"text-align: right;\">\n",
       "      <th></th>\n",
       "      <th>W2- Irradiance (W/m²)</th>\n",
       "      <th>W3 - Irradiance (W/m²)</th>\n",
       "      <th>W4 - Irradiance (W/m²)</th>\n",
       "      <th>Temperature ambiante (°C)</th>\n",
       "      <th>Vitesse du vent (m/s)</th>\n",
       "      <th>Température module (°C)</th>\n",
       "      <th>Production Centrale Meter 1 - (W)</th>\n",
       "    </tr>\n",
       "    <tr>\n",
       "      <th>Date (+00:00)</th>\n",
       "      <th></th>\n",
       "      <th></th>\n",
       "      <th></th>\n",
       "      <th></th>\n",
       "      <th></th>\n",
       "      <th></th>\n",
       "      <th></th>\n",
       "    </tr>\n",
       "  </thead>\n",
       "  <tbody>\n",
       "    <tr>\n",
       "      <th>2021-01-01 00:05:00</th>\n",
       "      <td>0.0</td>\n",
       "      <td>0.0</td>\n",
       "      <td>0.0</td>\n",
       "      <td>21.9667</td>\n",
       "      <td>1.7416</td>\n",
       "      <td>25.9</td>\n",
       "      <td>0.0</td>\n",
       "    </tr>\n",
       "    <tr>\n",
       "      <th>2021-01-01 00:10:00</th>\n",
       "      <td>0.0</td>\n",
       "      <td>0.0</td>\n",
       "      <td>0.0</td>\n",
       "      <td>21.9667</td>\n",
       "      <td>1.7416</td>\n",
       "      <td>25.9</td>\n",
       "      <td>0.0</td>\n",
       "    </tr>\n",
       "    <tr>\n",
       "      <th>2021-01-01 00:15:00</th>\n",
       "      <td>0.0</td>\n",
       "      <td>0.0</td>\n",
       "      <td>0.0</td>\n",
       "      <td>21.9667</td>\n",
       "      <td>1.7416</td>\n",
       "      <td>25.9</td>\n",
       "      <td>0.0</td>\n",
       "    </tr>\n",
       "    <tr>\n",
       "      <th>2021-01-01 00:20:00</th>\n",
       "      <td>0.0</td>\n",
       "      <td>0.0</td>\n",
       "      <td>0.0</td>\n",
       "      <td>21.9667</td>\n",
       "      <td>1.7416</td>\n",
       "      <td>25.9</td>\n",
       "      <td>0.0</td>\n",
       "    </tr>\n",
       "    <tr>\n",
       "      <th>2021-01-01 00:25:00</th>\n",
       "      <td>0.0</td>\n",
       "      <td>0.0</td>\n",
       "      <td>0.0</td>\n",
       "      <td>21.9667</td>\n",
       "      <td>1.7416</td>\n",
       "      <td>25.9</td>\n",
       "      <td>0.0</td>\n",
       "    </tr>\n",
       "  </tbody>\n",
       "</table>\n",
       "</div>"
      ],
      "text/plain": [
       "                     W2- Irradiance (W/m²)  W3 - Irradiance (W/m²)  \\\n",
       "Date (+00:00)                                                        \n",
       "2021-01-01 00:05:00                    0.0                     0.0   \n",
       "2021-01-01 00:10:00                    0.0                     0.0   \n",
       "2021-01-01 00:15:00                    0.0                     0.0   \n",
       "2021-01-01 00:20:00                    0.0                     0.0   \n",
       "2021-01-01 00:25:00                    0.0                     0.0   \n",
       "\n",
       "                     W4 - Irradiance (W/m²)   Temperature ambiante (°C)  \\\n",
       "Date (+00:00)                                                             \n",
       "2021-01-01 00:05:00                     0.0                     21.9667   \n",
       "2021-01-01 00:10:00                     0.0                     21.9667   \n",
       "2021-01-01 00:15:00                     0.0                     21.9667   \n",
       "2021-01-01 00:20:00                     0.0                     21.9667   \n",
       "2021-01-01 00:25:00                     0.0                     21.9667   \n",
       "\n",
       "                      Vitesse du vent (m/s)  Température module (°C)  \\\n",
       "Date (+00:00)                                                          \n",
       "2021-01-01 00:05:00                  1.7416                     25.9   \n",
       "2021-01-01 00:10:00                  1.7416                     25.9   \n",
       "2021-01-01 00:15:00                  1.7416                     25.9   \n",
       "2021-01-01 00:20:00                  1.7416                     25.9   \n",
       "2021-01-01 00:25:00                  1.7416                     25.9   \n",
       "\n",
       "                     Production Centrale Meter 1 - (W)  \n",
       "Date (+00:00)                                           \n",
       "2021-01-01 00:05:00                                0.0  \n",
       "2021-01-01 00:10:00                                0.0  \n",
       "2021-01-01 00:15:00                                0.0  \n",
       "2021-01-01 00:20:00                                0.0  \n",
       "2021-01-01 00:25:00                                0.0  "
      ]
     },
     "execution_count": 3,
     "metadata": {},
     "output_type": "execute_result"
    }
   ],
   "source": [
    "bokhol.head()"
   ]
  },
  {
   "cell_type": "code",
   "execution_count": 4,
   "metadata": {},
   "outputs": [
    {
     "data": {
      "text/plain": [
       "(105119, 7)"
      ]
     },
     "execution_count": 4,
     "metadata": {},
     "output_type": "execute_result"
    }
   ],
   "source": [
    "bokhol.shape"
   ]
  },
  {
   "cell_type": "code",
   "execution_count": 5,
   "metadata": {},
   "outputs": [
    {
     "data": {
      "text/plain": [
       "W2- Irradiance (W/m²)                 50\n",
       "W3 - Irradiance (W/m²)                59\n",
       "W4 - Irradiance (W/m²)                57\n",
       " Temperature ambiante (°C)            45\n",
       " Vitesse du vent (m/s)                42\n",
       "Température module (°C)              247\n",
       "Production Centrale Meter 1 - (W)    617\n",
       "dtype: int64"
      ]
     },
     "execution_count": 5,
     "metadata": {},
     "output_type": "execute_result"
    }
   ],
   "source": [
    "bokhol.isnull().sum()"
   ]
  },
  {
   "cell_type": "code",
   "execution_count": 6,
   "metadata": {},
   "outputs": [],
   "source": [
    "bokhol=bokhol.dropna(axis=0)"
   ]
  },
  {
   "cell_type": "code",
   "execution_count": 7,
   "metadata": {},
   "outputs": [
    {
     "data": {
      "text/plain": [
       "W2- Irradiance (W/m²)                1.206854e+05\n",
       "W3 - Irradiance (W/m²)               1.164649e+05\n",
       "W4 - Irradiance (W/m²)               1.205873e+05\n",
       " Temperature ambiante (°C)           2.666369e+01\n",
       " Vitesse du vent (m/s)               2.157260e+00\n",
       "Température module (°C)              4.161356e+01\n",
       "Production Centrale Meter 1 - (W)    3.640470e+13\n",
       "dtype: float64"
      ]
     },
     "execution_count": 7,
     "metadata": {},
     "output_type": "execute_result"
    }
   ],
   "source": [
    "bokhol.var(axis=0)"
   ]
  },
  {
   "cell_type": "code",
   "execution_count": 8,
   "metadata": {},
   "outputs": [
    {
     "name": "stdout",
     "output_type": "stream",
     "text": [
      "<class 'pandas.core.frame.DataFrame'>\n",
      "DatetimeIndex: 104238 entries, 2021-01-01 00:05:00 to 2021-12-31 21:00:00\n",
      "Data columns (total 7 columns):\n",
      " #   Column                             Non-Null Count   Dtype  \n",
      "---  ------                             --------------   -----  \n",
      " 0   W2- Irradiance (W/m²)              104238 non-null  float64\n",
      " 1   W3 - Irradiance (W/m²)             104238 non-null  float64\n",
      " 2   W4 - Irradiance (W/m²)             104238 non-null  float64\n",
      " 3    Temperature ambiante (°C)         104238 non-null  float64\n",
      " 4    Vitesse du vent (m/s)             104238 non-null  float64\n",
      " 5   Température module (°C)            104238 non-null  float64\n",
      " 6   Production Centrale Meter 1 - (W)  104238 non-null  float64\n",
      "dtypes: float64(7)\n",
      "memory usage: 6.4 MB\n"
     ]
    }
   ],
   "source": [
    "bokhol.info()"
   ]
  },
  {
   "attachments": {},
   "cell_type": "markdown",
   "metadata": {},
   "source": [
    "selection de la base de donnees en features et en target"
   ]
  },
  {
   "cell_type": "code",
   "execution_count": 9,
   "metadata": {},
   "outputs": [
    {
     "data": {
      "text/html": [
       "<div>\n",
       "<style scoped>\n",
       "    .dataframe tbody tr th:only-of-type {\n",
       "        vertical-align: middle;\n",
       "    }\n",
       "\n",
       "    .dataframe tbody tr th {\n",
       "        vertical-align: top;\n",
       "    }\n",
       "\n",
       "    .dataframe thead th {\n",
       "        text-align: right;\n",
       "    }\n",
       "</style>\n",
       "<table border=\"1\" class=\"dataframe\">\n",
       "  <thead>\n",
       "    <tr style=\"text-align: right;\">\n",
       "      <th></th>\n",
       "      <th>W2- Irradiance (W/m²)</th>\n",
       "      <th>Temperature ambiante (°C)</th>\n",
       "      <th>Vitesse du vent (m/s)</th>\n",
       "      <th>Température module (°C)</th>\n",
       "    </tr>\n",
       "    <tr>\n",
       "      <th>Date (+00:00)</th>\n",
       "      <th></th>\n",
       "      <th></th>\n",
       "      <th></th>\n",
       "      <th></th>\n",
       "    </tr>\n",
       "  </thead>\n",
       "  <tbody>\n",
       "    <tr>\n",
       "      <th>2021-01-01 00:05:00</th>\n",
       "      <td>0.0</td>\n",
       "      <td>21.9667</td>\n",
       "      <td>1.7416</td>\n",
       "      <td>25.9</td>\n",
       "    </tr>\n",
       "    <tr>\n",
       "      <th>2021-01-01 00:10:00</th>\n",
       "      <td>0.0</td>\n",
       "      <td>21.9667</td>\n",
       "      <td>1.7416</td>\n",
       "      <td>25.9</td>\n",
       "    </tr>\n",
       "    <tr>\n",
       "      <th>2021-01-01 00:15:00</th>\n",
       "      <td>0.0</td>\n",
       "      <td>21.9667</td>\n",
       "      <td>1.7416</td>\n",
       "      <td>25.9</td>\n",
       "    </tr>\n",
       "    <tr>\n",
       "      <th>2021-01-01 00:20:00</th>\n",
       "      <td>0.0</td>\n",
       "      <td>21.9667</td>\n",
       "      <td>1.7416</td>\n",
       "      <td>25.9</td>\n",
       "    </tr>\n",
       "    <tr>\n",
       "      <th>2021-01-01 00:25:00</th>\n",
       "      <td>0.0</td>\n",
       "      <td>21.9667</td>\n",
       "      <td>1.7416</td>\n",
       "      <td>25.9</td>\n",
       "    </tr>\n",
       "    <tr>\n",
       "      <th>...</th>\n",
       "      <td>...</td>\n",
       "      <td>...</td>\n",
       "      <td>...</td>\n",
       "      <td>...</td>\n",
       "    </tr>\n",
       "    <tr>\n",
       "      <th>2021-12-31 20:40:00</th>\n",
       "      <td>0.0</td>\n",
       "      <td>26.3400</td>\n",
       "      <td>1.7467</td>\n",
       "      <td>26.8</td>\n",
       "    </tr>\n",
       "    <tr>\n",
       "      <th>2021-12-31 20:45:00</th>\n",
       "      <td>0.0</td>\n",
       "      <td>26.0600</td>\n",
       "      <td>1.3683</td>\n",
       "      <td>26.6</td>\n",
       "    </tr>\n",
       "    <tr>\n",
       "      <th>2021-12-31 20:50:00</th>\n",
       "      <td>0.0</td>\n",
       "      <td>25.7000</td>\n",
       "      <td>1.2560</td>\n",
       "      <td>26.3</td>\n",
       "    </tr>\n",
       "    <tr>\n",
       "      <th>2021-12-31 20:55:00</th>\n",
       "      <td>0.0</td>\n",
       "      <td>25.7400</td>\n",
       "      <td>1.4380</td>\n",
       "      <td>26.2</td>\n",
       "    </tr>\n",
       "    <tr>\n",
       "      <th>2021-12-31 21:00:00</th>\n",
       "      <td>0.0</td>\n",
       "      <td>25.8500</td>\n",
       "      <td>1.7000</td>\n",
       "      <td>26.2</td>\n",
       "    </tr>\n",
       "  </tbody>\n",
       "</table>\n",
       "<p>104238 rows × 4 columns</p>\n",
       "</div>"
      ],
      "text/plain": [
       "                     W2- Irradiance (W/m²)   Temperature ambiante (°C)  \\\n",
       "Date (+00:00)                                                            \n",
       "2021-01-01 00:05:00                    0.0                     21.9667   \n",
       "2021-01-01 00:10:00                    0.0                     21.9667   \n",
       "2021-01-01 00:15:00                    0.0                     21.9667   \n",
       "2021-01-01 00:20:00                    0.0                     21.9667   \n",
       "2021-01-01 00:25:00                    0.0                     21.9667   \n",
       "...                                    ...                         ...   \n",
       "2021-12-31 20:40:00                    0.0                     26.3400   \n",
       "2021-12-31 20:45:00                    0.0                     26.0600   \n",
       "2021-12-31 20:50:00                    0.0                     25.7000   \n",
       "2021-12-31 20:55:00                    0.0                     25.7400   \n",
       "2021-12-31 21:00:00                    0.0                     25.8500   \n",
       "\n",
       "                      Vitesse du vent (m/s)  Température module (°C)  \n",
       "Date (+00:00)                                                         \n",
       "2021-01-01 00:05:00                  1.7416                     25.9  \n",
       "2021-01-01 00:10:00                  1.7416                     25.9  \n",
       "2021-01-01 00:15:00                  1.7416                     25.9  \n",
       "2021-01-01 00:20:00                  1.7416                     25.9  \n",
       "2021-01-01 00:25:00                  1.7416                     25.9  \n",
       "...                                     ...                      ...  \n",
       "2021-12-31 20:40:00                  1.7467                     26.8  \n",
       "2021-12-31 20:45:00                  1.3683                     26.6  \n",
       "2021-12-31 20:50:00                  1.2560                     26.3  \n",
       "2021-12-31 20:55:00                  1.4380                     26.2  \n",
       "2021-12-31 21:00:00                  1.7000                     26.2  \n",
       "\n",
       "[104238 rows x 4 columns]"
      ]
     },
     "execution_count": 9,
     "metadata": {},
     "output_type": "execute_result"
    }
   ],
   "source": [
    "X=bokhol.drop(['W3 - Irradiance (W/m²)','W4 - Irradiance (W/m²)','Production Centrale Meter 1 - (W)'],axis=1)\n",
    "X"
   ]
  },
  {
   "cell_type": "code",
   "execution_count": 10,
   "metadata": {},
   "outputs": [
    {
     "data": {
      "text/html": [
       "<div>\n",
       "<style scoped>\n",
       "    .dataframe tbody tr th:only-of-type {\n",
       "        vertical-align: middle;\n",
       "    }\n",
       "\n",
       "    .dataframe tbody tr th {\n",
       "        vertical-align: top;\n",
       "    }\n",
       "\n",
       "    .dataframe thead th {\n",
       "        text-align: right;\n",
       "    }\n",
       "</style>\n",
       "<table border=\"1\" class=\"dataframe\">\n",
       "  <thead>\n",
       "    <tr style=\"text-align: right;\">\n",
       "      <th></th>\n",
       "      <th>Production Centrale Meter 1 - (W)</th>\n",
       "    </tr>\n",
       "    <tr>\n",
       "      <th>Date (+00:00)</th>\n",
       "      <th></th>\n",
       "    </tr>\n",
       "  </thead>\n",
       "  <tbody>\n",
       "    <tr>\n",
       "      <th>2021-01-01 00:05:00</th>\n",
       "      <td>0.0</td>\n",
       "    </tr>\n",
       "    <tr>\n",
       "      <th>2021-01-01 00:10:00</th>\n",
       "      <td>0.0</td>\n",
       "    </tr>\n",
       "    <tr>\n",
       "      <th>2021-01-01 00:15:00</th>\n",
       "      <td>0.0</td>\n",
       "    </tr>\n",
       "    <tr>\n",
       "      <th>2021-01-01 00:20:00</th>\n",
       "      <td>0.0</td>\n",
       "    </tr>\n",
       "    <tr>\n",
       "      <th>2021-01-01 00:25:00</th>\n",
       "      <td>0.0</td>\n",
       "    </tr>\n",
       "    <tr>\n",
       "      <th>...</th>\n",
       "      <td>...</td>\n",
       "    </tr>\n",
       "    <tr>\n",
       "      <th>2021-12-31 20:40:00</th>\n",
       "      <td>0.0</td>\n",
       "    </tr>\n",
       "    <tr>\n",
       "      <th>2021-12-31 20:45:00</th>\n",
       "      <td>0.0</td>\n",
       "    </tr>\n",
       "    <tr>\n",
       "      <th>2021-12-31 20:50:00</th>\n",
       "      <td>0.0</td>\n",
       "    </tr>\n",
       "    <tr>\n",
       "      <th>2021-12-31 20:55:00</th>\n",
       "      <td>0.0</td>\n",
       "    </tr>\n",
       "    <tr>\n",
       "      <th>2021-12-31 21:00:00</th>\n",
       "      <td>0.0</td>\n",
       "    </tr>\n",
       "  </tbody>\n",
       "</table>\n",
       "<p>104238 rows × 1 columns</p>\n",
       "</div>"
      ],
      "text/plain": [
       "                     Production Centrale Meter 1 - (W)\n",
       "Date (+00:00)                                         \n",
       "2021-01-01 00:05:00                                0.0\n",
       "2021-01-01 00:10:00                                0.0\n",
       "2021-01-01 00:15:00                                0.0\n",
       "2021-01-01 00:20:00                                0.0\n",
       "2021-01-01 00:25:00                                0.0\n",
       "...                                                ...\n",
       "2021-12-31 20:40:00                                0.0\n",
       "2021-12-31 20:45:00                                0.0\n",
       "2021-12-31 20:50:00                                0.0\n",
       "2021-12-31 20:55:00                                0.0\n",
       "2021-12-31 21:00:00                                0.0\n",
       "\n",
       "[104238 rows x 1 columns]"
      ]
     },
     "execution_count": 10,
     "metadata": {},
     "output_type": "execute_result"
    }
   ],
   "source": [
    "y=pd.DataFrame(bokhol['Production Centrale Meter 1 - (W)'])\n",
    "y"
   ]
  },
  {
   "attachments": {},
   "cell_type": "markdown",
   "metadata": {},
   "source": [
    "SELECTION DES VARIABLES PERTINANTES POUR NOTRE MODELE\n",
    "1. VarianceTreshold : il selectionne les variables selon leurs variances qui elimine les variables dont leurs variance est\n",
    "inferieurs a un seuil fixer  "
   ]
  },
  {
   "cell_type": "code",
   "execution_count": 11,
   "metadata": {},
   "outputs": [
    {
     "data": {
      "text/plain": [
       "array(['W2- Irradiance (W/m²)', ' Temperature ambiante (°C)',\n",
       "       'Température module (°C)'], dtype=object)"
      ]
     },
     "execution_count": 11,
     "metadata": {},
     "output_type": "execute_result"
    }
   ],
   "source": [
    "from sklearn.feature_selection import VarianceThreshold\n",
    "\n",
    "selector=VarianceThreshold(threshold=10)\n",
    "selector.fit_transform(X)\n",
    "selector.get_support()\n",
    "np.array(X.columns)[selector.get_support()]"
   ]
  },
  {
   "attachments": {},
   "cell_type": "markdown",
   "metadata": {},
   "source": [
    "2. Selectkbest: Test de dependance\n",
    "il selectionne les K variables X dont le score du test de dependance avec y est le plus eleve\n",
    "selectKBest(test_dependance,k_valeurs)"
   ]
  },
  {
   "cell_type": "code",
   "execution_count": 12,
   "metadata": {},
   "outputs": [
    {
     "name": "stdout",
     "output_type": "stream",
     "text": [
      "dimension features: (104238, 4)\n",
      "dimension targets: (104238, 1)\n"
     ]
    },
    {
     "data": {
      "text/plain": [
       "array([ True,  True, False,  True])"
      ]
     },
     "execution_count": 12,
     "metadata": {},
     "output_type": "execute_result"
    }
   ],
   "source": [
    "from sklearn.feature_selection import SelectKBest,chi2,f_regression,r_regression,mutual_info_regression\n",
    "import warnings\n",
    "warnings.filterwarnings('ignore')\n",
    "\n",
    "# conversion en array les dataframe X et y \n",
    "xx=np.array(X.values)\n",
    "yy=np.array(y.values)\n",
    "print(\"dimension features:\", xx.shape)\n",
    "print(\"dimension targets:\", yy.shape)\n",
    "\n",
    "#  methode de selection de variables \n",
    "selector2=SelectKBest(mutual_info_regression,k=3)\n",
    "ss=selector2.fit_transform(xx,yy)\n",
    "selector2.get_support()\n",
    "#np.array(xx.columns)[selector2.get_support()].mean(axis=0)"
   ]
  },
  {
   "attachments": {},
   "cell_type": "markdown",
   "metadata": {},
   "source": [
    "3. SelectFromModel : c'est une etrategie de selection de variables par la quelle le stimateur entainer selectionne les variables\n",
    "les plus importantes selon le stimateur\n",
    "NB: il fonctionne que avec les estimateurs qui developpent des fonctions parametres"
   ]
  },
  {
   "cell_type": "code",
   "execution_count": 15,
   "metadata": {},
   "outputs": [
    {
     "data": {
      "text/plain": [
       "array(['W2- Irradiance (W/m²)'], dtype=object)"
      ]
     },
     "execution_count": 15,
     "metadata": {},
     "output_type": "execute_result"
    }
   ],
   "source": [
    "from sklearn.feature_selection import SelectFromModel\n",
    "\n",
    "selector_3=SelectFromModel(SGDRegressor(),threshold='mean')\n",
    "selector_3.fit_transform(X,y)\n",
    "selector_3.get_support()\n",
    "np.array(X.columns)[selector_3.get_support()]"
   ]
  },
  {
   "attachments": {},
   "cell_type": "markdown",
   "metadata": {},
   "source": [
    "4. RFE et RFECV:il elimine des variables les moins importantes de facon recursive\n",
    "RFECV(stimateur,step,min_features_to_select)"
   ]
  },
  {
   "cell_type": "code",
   "execution_count": 16,
   "metadata": {},
   "outputs": [
    {
     "data": {
      "text/plain": [
       "array(['W2- Irradiance (W/m²)'], dtype=object)"
      ]
     },
     "execution_count": 16,
     "metadata": {},
     "output_type": "execute_result"
    }
   ],
   "source": [
    "from sklearn.feature_selection import RFE,RFECV\n",
    "\n",
    "selector_4=RFECV(SGDRegressor(),step=1,min_features_to_select=2,cv=5 )\n",
    "selector_4.fit_transform(X,y)\n",
    "selector_4.get_support()\n",
    "np.array(X.columns)[selector_3.get_support()]"
   ]
  },
  {
   "cell_type": "code",
   "execution_count": 25,
   "metadata": {},
   "outputs": [
    {
     "data": {
      "text/plain": [
       "-19293324167658.004"
      ]
     },
     "execution_count": 25,
     "metadata": {},
     "output_type": "execute_result"
    }
   ],
   "source": [
    "selector_4.grid_scores_.mean()"
   ]
  },
  {
   "attachments": {},
   "cell_type": "markdown",
   "metadata": {},
   "source": [
    "selection de model de prediction machine learning"
   ]
  },
  {
   "cell_type": "code",
   "execution_count": null,
   "metadata": {},
   "outputs": [],
   "source": []
  }
 ],
 "metadata": {
  "kernelspec": {
   "display_name": "base",
   "language": "python",
   "name": "python3"
  },
  "language_info": {
   "codemirror_mode": {
    "name": "ipython",
    "version": 3
   },
   "file_extension": ".py",
   "mimetype": "text/x-python",
   "name": "python",
   "nbconvert_exporter": "python",
   "pygments_lexer": "ipython3",
   "version": "3.9.12"
  },
  "orig_nbformat": 4
 },
 "nbformat": 4,
 "nbformat_minor": 2
}
