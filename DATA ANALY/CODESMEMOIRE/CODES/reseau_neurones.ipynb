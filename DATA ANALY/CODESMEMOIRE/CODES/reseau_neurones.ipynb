{
 "cells": [
  {
   "attachments": {},
   "cell_type": "markdown",
   "metadata": {},
   "source": [
    "DEVELOPPER UN RESEAU DE NEURONES MULTICOUCHES"
   ]
  },
  {
   "cell_type": "code",
   "execution_count": 1,
   "metadata": {},
   "outputs": [],
   "source": [
    "# IMPORTATION DES BIBIOTHEQUES\n",
    "import pandas as pd\n",
    "import numpy as np\n",
    "import matplotlib.pyplot as plt\n",
    "from sklearn.metrics import accuracy_score,log_loss"
   ]
  },
  {
   "attachments": {},
   "cell_type": "markdown",
   "metadata": {},
   "source": [
    "### Developpement d'un reseau de neurones multicouches"
   ]
  },
  {
   "cell_type": "code",
   "execution_count": 2,
   "metadata": {},
   "outputs": [],
   "source": [
    "# intialisation des poids et seuils de notre reseau de neurones\n",
    "def initisations(dimension):\n",
    "    parametres={}\n",
    "    d=len(dimension)\n",
    "    for c in range(1,d):\n",
    "        parametres['w'+str(c)]=np.random.randn(dimension[c],dimension[c-1])\n",
    "        parametres['b'+str(c)]=np.random.randn(dimension[c],1)\n",
    "    return parametres"
   ]
  },
  {
   "cell_type": "code",
   "execution_count": 3,
   "metadata": {},
   "outputs": [
    {
     "name": "stdout",
     "output_type": "stream",
     "text": [
      "w1 (32, 6)\n",
      "b1 (32, 1)\n",
      "w2 (32, 32)\n",
      "b2 (32, 1)\n",
      "w3 (32, 32)\n",
      "b3 (32, 1)\n",
      "w4 (1, 32)\n",
      "b4 (1, 1)\n"
     ]
    }
   ],
   "source": [
    "parametres=initisations([6,32,32,32,1])\n",
    "for key,val in parametres.items():\n",
    "    print(key,val.shape)"
   ]
  },
  {
   "cell_type": "code",
   "execution_count": 4,
   "metadata": {},
   "outputs": [],
   "source": [
    "# 2. Relation des parametres et les activation de la couche initial a la couche final:forword prapagation\n",
    "def forword_propagation(X,parametres):\n",
    "    activations={'A0':X}\n",
    "    d=len(parametres)//2\n",
    "    for c in range(1,d+1):\n",
    "        z=parametres['w'+str(c)].dot(activations['A'+str(c-1)])+parametres['b'+str(c)]\n",
    "        activations['A'+str(c)]=1/(1+np.exp(-z))\n",
    "    return activations"
   ]
  },
  {
   "cell_type": "code",
   "execution_count": 5,
   "metadata": {},
   "outputs": [],
   "source": [
    "#3. relation des parametres et activation de la couche finale a la couche initiale:BACK PROPAGATION\n",
    "def back_propagation(y,activation,parametres):\n",
    "    m=y.shape[1]\n",
    "    d=len(parametres)//2\n",
    "    dz=activation['A'+str(d)]-y\n",
    "    gradients={}\n",
    "    for c in  range(d,0,-1):\n",
    "        gradients['dw'+str(c)]=1/m*np.dot(dz,activation['A'+str(c-1)].T)\n",
    "        gradients['db'+str(c)]=1/m*np.sum(dz,axis=1)#,keepdim=True)\n",
    "        if c>1:\n",
    "            dz=np.dot(parametres['w'+str(c)].T,dz)*activation['A'+str(c-1)]*(1-activation['A'+str(c-1)])\n",
    "    return gradients"
   ]
  },
  {
   "cell_type": "code",
   "execution_count": 6,
   "metadata": {},
   "outputs": [],
   "source": [
    "# la mise a jour des parametres\n",
    "def update(gradients,parametres,learning_rate):\n",
    "    d=len(parametres)//2\n",
    "    for c in range(1,d+1):\n",
    "        parametres['w'+str(c)]=parametres['w'+str(c)]-learning_rate*gradients['dw'+str(c)]\n",
    "        parametres['b'+str(c)]=parametres['b'+str(c)]-learning_rate*gradients['db'+str(c)]\n",
    "    return parametres\n",
    "    "
   ]
  },
  {
   "cell_type": "code",
   "execution_count": 7,
   "metadata": {},
   "outputs": [],
   "source": [
    "# prediction \n",
    "def prediction(x,parametres):\n",
    "    activations=forword_propagation(x,parametres)\n",
    "    c=len(parametres)//2\n",
    "    Af=activations['A'+str(c)]\n",
    "    return Af>0.5"
   ]
  },
  {
   "cell_type": "code",
   "execution_count": 8,
   "metadata": {},
   "outputs": [],
   "source": [
    "# NOTRE RESEAU DE NEURONES MULTICOUCHES\n",
    "\n",
    "def reseau_neurones(X,y,couche_cachees=(32,32,32),learning_rate=0.01,n_iter=1000):\n",
    "    np.random.seed(0)\n",
    "    # INITIALISATION DES PARAMETRES\n",
    "    dimensions=list(couche_cachees)\n",
    "    dimensions.insert(0,X.shape[0])\n",
    "    dimensions.append(y.shape[0])\n",
    "    parametres=initisations(dimensions)\n",
    "    train_loss=[]\n",
    "    train_acc=[]\n",
    "    for i in range(n_iter):\n",
    "        activations=forword_propagation(X,parametres)\n",
    "        gradients=back_propagation(y,activations,parametres)\n",
    "        parametres=update(gradients,parametres,learning_rate)\n",
    "        if i%10==0:\n",
    "            c=len(parametres)//2\n",
    "            train_loss.append(log_loss(y,activations['A'+str(c)]))\n",
    "            y_pred=prediction(X,parametres)\n",
    "            curent_accuracy=accuracy_score(y.flatten(),y_pred.flatten())\n",
    "            train_acc.append(curent_accuracy)\n",
    "    plt.figure(figsize=(15,5))\n",
    "    plt.subplot(1,2,1)\n",
    "    plt.plot(train_loss,label='train_loss')\n",
    "    plt.legend()\n",
    "    plt.subplot(1,2,2)\n",
    "    plt.plot(train_acc,label='train_acc')\n",
    "    plt.legend()\n",
    "    plt.show()\n",
    "    return parametres"
   ]
  },
  {
   "attachments": {},
   "cell_type": "markdown",
   "metadata": {},
   "source": [
    "1. PRE_TRAITEMENTS DES DONNEES"
   ]
  },
  {
   "cell_type": "code",
   "execution_count": 9,
   "metadata": {},
   "outputs": [],
   "source": [
    "missing_values=['nan','I','-']\n",
    "base_donnees=pd.read_excel('basedonnees.xlsx',na_values=missing_values,parse_dates=True,\n",
    "                           index_col=[0])"
   ]
  },
  {
   "cell_type": "code",
   "execution_count": 10,
   "metadata": {},
   "outputs": [
    {
     "data": {
      "text/html": [
       "<div>\n",
       "<style scoped>\n",
       "    .dataframe tbody tr th:only-of-type {\n",
       "        vertical-align: middle;\n",
       "    }\n",
       "\n",
       "    .dataframe tbody tr th {\n",
       "        vertical-align: top;\n",
       "    }\n",
       "\n",
       "    .dataframe thead th {\n",
       "        text-align: right;\n",
       "    }\n",
       "</style>\n",
       "<table border=\"1\" class=\"dataframe\">\n",
       "  <thead>\n",
       "    <tr style=\"text-align: right;\">\n",
       "      <th></th>\n",
       "      <th>W2- Irradiance (W/m²)</th>\n",
       "      <th>W3 - Irradiance (W/m²)</th>\n",
       "      <th>W4 - Irradiance (W/m²)</th>\n",
       "      <th>Temperature ambiante (°C)</th>\n",
       "      <th>Vitesse du vent (m/s)</th>\n",
       "      <th>Température module (°C)</th>\n",
       "      <th>Production Centrale Meter 1 - (W)</th>\n",
       "    </tr>\n",
       "    <tr>\n",
       "      <th>Date (+00:00)</th>\n",
       "      <th></th>\n",
       "      <th></th>\n",
       "      <th></th>\n",
       "      <th></th>\n",
       "      <th></th>\n",
       "      <th></th>\n",
       "      <th></th>\n",
       "    </tr>\n",
       "  </thead>\n",
       "  <tbody>\n",
       "    <tr>\n",
       "      <th>2021-01-01 00:05:00</th>\n",
       "      <td>0.0</td>\n",
       "      <td>0.0</td>\n",
       "      <td>0.0</td>\n",
       "      <td>21.9667</td>\n",
       "      <td>1.7416</td>\n",
       "      <td>25.9</td>\n",
       "      <td>0.0</td>\n",
       "    </tr>\n",
       "    <tr>\n",
       "      <th>2021-01-01 00:10:00</th>\n",
       "      <td>0.0</td>\n",
       "      <td>0.0</td>\n",
       "      <td>0.0</td>\n",
       "      <td>21.9667</td>\n",
       "      <td>1.7416</td>\n",
       "      <td>25.9</td>\n",
       "      <td>0.0</td>\n",
       "    </tr>\n",
       "    <tr>\n",
       "      <th>2021-01-01 00:15:00</th>\n",
       "      <td>0.0</td>\n",
       "      <td>0.0</td>\n",
       "      <td>0.0</td>\n",
       "      <td>21.9667</td>\n",
       "      <td>1.7416</td>\n",
       "      <td>25.9</td>\n",
       "      <td>0.0</td>\n",
       "    </tr>\n",
       "    <tr>\n",
       "      <th>2021-01-01 00:20:00</th>\n",
       "      <td>0.0</td>\n",
       "      <td>0.0</td>\n",
       "      <td>0.0</td>\n",
       "      <td>21.9667</td>\n",
       "      <td>1.7416</td>\n",
       "      <td>25.9</td>\n",
       "      <td>0.0</td>\n",
       "    </tr>\n",
       "    <tr>\n",
       "      <th>2021-01-01 00:25:00</th>\n",
       "      <td>0.0</td>\n",
       "      <td>0.0</td>\n",
       "      <td>0.0</td>\n",
       "      <td>21.9667</td>\n",
       "      <td>1.7416</td>\n",
       "      <td>25.9</td>\n",
       "      <td>0.0</td>\n",
       "    </tr>\n",
       "  </tbody>\n",
       "</table>\n",
       "</div>"
      ],
      "text/plain": [
       "                     W2- Irradiance (W/m²)  W3 - Irradiance (W/m²)  \\\n",
       "Date (+00:00)                                                        \n",
       "2021-01-01 00:05:00                    0.0                     0.0   \n",
       "2021-01-01 00:10:00                    0.0                     0.0   \n",
       "2021-01-01 00:15:00                    0.0                     0.0   \n",
       "2021-01-01 00:20:00                    0.0                     0.0   \n",
       "2021-01-01 00:25:00                    0.0                     0.0   \n",
       "\n",
       "                     W4 - Irradiance (W/m²)   Temperature ambiante (°C)  \\\n",
       "Date (+00:00)                                                             \n",
       "2021-01-01 00:05:00                     0.0                     21.9667   \n",
       "2021-01-01 00:10:00                     0.0                     21.9667   \n",
       "2021-01-01 00:15:00                     0.0                     21.9667   \n",
       "2021-01-01 00:20:00                     0.0                     21.9667   \n",
       "2021-01-01 00:25:00                     0.0                     21.9667   \n",
       "\n",
       "                      Vitesse du vent (m/s)  Température module (°C)  \\\n",
       "Date (+00:00)                                                          \n",
       "2021-01-01 00:05:00                  1.7416                     25.9   \n",
       "2021-01-01 00:10:00                  1.7416                     25.9   \n",
       "2021-01-01 00:15:00                  1.7416                     25.9   \n",
       "2021-01-01 00:20:00                  1.7416                     25.9   \n",
       "2021-01-01 00:25:00                  1.7416                     25.9   \n",
       "\n",
       "                     Production Centrale Meter 1 - (W)  \n",
       "Date (+00:00)                                           \n",
       "2021-01-01 00:05:00                                0.0  \n",
       "2021-01-01 00:10:00                                0.0  \n",
       "2021-01-01 00:15:00                                0.0  \n",
       "2021-01-01 00:20:00                                0.0  \n",
       "2021-01-01 00:25:00                                0.0  "
      ]
     },
     "execution_count": 10,
     "metadata": {},
     "output_type": "execute_result"
    }
   ],
   "source": [
    "base_donnees.head()"
   ]
  },
  {
   "attachments": {},
   "cell_type": "markdown",
   "metadata": {},
   "source": [
    "A. CORRECTION DES VALEURS MANQUANTES"
   ]
  },
  {
   "cell_type": "code",
   "execution_count": 11,
   "metadata": {},
   "outputs": [
    {
     "data": {
      "text/plain": [
       "W2- Irradiance (W/m²)                 50\n",
       "W3 - Irradiance (W/m²)                59\n",
       "W4 - Irradiance (W/m²)                57\n",
       " Temperature ambiante (°C)            45\n",
       " Vitesse du vent (m/s)                42\n",
       "Température module (°C)              247\n",
       "Production Centrale Meter 1 - (W)    617\n",
       "dtype: int64"
      ]
     },
     "execution_count": 11,
     "metadata": {},
     "output_type": "execute_result"
    }
   ],
   "source": [
    "donnees_manquantes=base_donnees.isnull().sum()\n",
    "donnees_manquantes"
   ]
  },
  {
   "cell_type": "code",
   "execution_count": 12,
   "metadata": {},
   "outputs": [
    {
     "data": {
      "text/plain": [
       "<AxesSubplot:>"
      ]
     },
     "execution_count": 12,
     "metadata": {},
     "output_type": "execute_result"
    },
    {
     "data": {
      "image/png": "[encoded data removed]",
      "text/plain": [
       "<Figure size 432x288 with 1 Axes>"
      ]
     },
     "metadata": {
      "needs_background": "light"
     },
     "output_type": "display_data"
    }
   ],
   "source": [
    "pourcentage_donnees_manquante=donnees_manquantes.values/base_donnees.shape[0]\n",
    "colonne=base_donnees.columns\n",
    "donnees_manquante=pd.Series(pourcentage_donnees_manquante,index=colonne) \n",
    "donnees_manquante.hist()"
   ]
  },
  {
   "cell_type": "code",
   "execution_count": 13,
   "metadata": {},
   "outputs": [
    {
     "data": {
      "text/plain": [
       "(105119, 7)"
      ]
     },
     "execution_count": 13,
     "metadata": {},
     "output_type": "execute_result"
    }
   ],
   "source": [
    "from sklearn.impute import KNNImputer\n",
    "imputation=KNNImputer(n_neighbors=1)\n",
    "imp=imputation.fit_transform(base_donnees)\n",
    "imp.shape"
   ]
  },
  {
   "cell_type": "code",
   "execution_count": 14,
   "metadata": {},
   "outputs": [
    {
     "data": {
      "text/html": [
       "<div>\n",
       "<style scoped>\n",
       "    .dataframe tbody tr th:only-of-type {\n",
       "        vertical-align: middle;\n",
       "    }\n",
       "\n",
       "    .dataframe tbody tr th {\n",
       "        vertical-align: top;\n",
       "    }\n",
       "\n",
       "    .dataframe thead th {\n",
       "        text-align: right;\n",
       "    }\n",
       "</style>\n",
       "<table border=\"1\" class=\"dataframe\">\n",
       "  <thead>\n",
       "    <tr style=\"text-align: right;\">\n",
       "      <th></th>\n",
       "      <th>W2- Irradiance (W/m²)</th>\n",
       "      <th>W3 - Irradiance (W/m²)</th>\n",
       "      <th>W4 - Irradiance (W/m²)</th>\n",
       "      <th>Temperature ambiante (°C)</th>\n",
       "      <th>Vitesse du vent (m/s)</th>\n",
       "      <th>Température module (°C)</th>\n",
       "      <th>Production Centrale Meter 1 - (W)</th>\n",
       "    </tr>\n",
       "    <tr>\n",
       "      <th>Date (+00:00)</th>\n",
       "      <th></th>\n",
       "      <th></th>\n",
       "      <th></th>\n",
       "      <th></th>\n",
       "      <th></th>\n",
       "      <th></th>\n",
       "      <th></th>\n",
       "    </tr>\n",
       "  </thead>\n",
       "  <tbody>\n",
       "    <tr>\n",
       "      <th>2021-01-01 00:05:00</th>\n",
       "      <td>0.000000</td>\n",
       "      <td>0.000000</td>\n",
       "      <td>0.000000</td>\n",
       "      <td>21.966700</td>\n",
       "      <td>1.741600</td>\n",
       "      <td>25.90000</td>\n",
       "      <td>0.000000e+00</td>\n",
       "    </tr>\n",
       "    <tr>\n",
       "      <th>2021-01-01 00:10:00</th>\n",
       "      <td>0.000000</td>\n",
       "      <td>0.000000</td>\n",
       "      <td>0.000000</td>\n",
       "      <td>21.966700</td>\n",
       "      <td>1.741600</td>\n",
       "      <td>25.90000</td>\n",
       "      <td>0.000000e+00</td>\n",
       "    </tr>\n",
       "    <tr>\n",
       "      <th>2021-01-01 00:15:00</th>\n",
       "      <td>0.000000</td>\n",
       "      <td>0.000000</td>\n",
       "      <td>0.000000</td>\n",
       "      <td>21.966700</td>\n",
       "      <td>1.741600</td>\n",
       "      <td>25.90000</td>\n",
       "      <td>0.000000e+00</td>\n",
       "    </tr>\n",
       "    <tr>\n",
       "      <th>2021-01-01 00:20:00</th>\n",
       "      <td>0.000000</td>\n",
       "      <td>0.000000</td>\n",
       "      <td>0.000000</td>\n",
       "      <td>21.966700</td>\n",
       "      <td>1.741600</td>\n",
       "      <td>25.90000</td>\n",
       "      <td>0.000000e+00</td>\n",
       "    </tr>\n",
       "    <tr>\n",
       "      <th>2021-01-01 00:25:00</th>\n",
       "      <td>0.000000</td>\n",
       "      <td>0.000000</td>\n",
       "      <td>0.000000</td>\n",
       "      <td>21.966700</td>\n",
       "      <td>1.741600</td>\n",
       "      <td>25.90000</td>\n",
       "      <td>0.000000e+00</td>\n",
       "    </tr>\n",
       "    <tr>\n",
       "      <th>...</th>\n",
       "      <td>...</td>\n",
       "      <td>...</td>\n",
       "      <td>...</td>\n",
       "      <td>...</td>\n",
       "      <td>...</td>\n",
       "      <td>...</td>\n",
       "      <td>...</td>\n",
       "    </tr>\n",
       "    <tr>\n",
       "      <th>2021-12-31 23:35:00</th>\n",
       "      <td>260.276651</td>\n",
       "      <td>255.595406</td>\n",
       "      <td>259.809913</td>\n",
       "      <td>29.451952</td>\n",
       "      <td>2.900866</td>\n",
       "      <td>33.73188</td>\n",
       "      <td>4.486998e+06</td>\n",
       "    </tr>\n",
       "    <tr>\n",
       "      <th>2021-12-31 23:40:00</th>\n",
       "      <td>260.276651</td>\n",
       "      <td>255.595406</td>\n",
       "      <td>259.809913</td>\n",
       "      <td>29.451952</td>\n",
       "      <td>2.900866</td>\n",
       "      <td>33.73188</td>\n",
       "      <td>4.486998e+06</td>\n",
       "    </tr>\n",
       "    <tr>\n",
       "      <th>2021-12-31 23:45:00</th>\n",
       "      <td>260.276651</td>\n",
       "      <td>255.595406</td>\n",
       "      <td>259.809913</td>\n",
       "      <td>29.451952</td>\n",
       "      <td>2.900866</td>\n",
       "      <td>33.73188</td>\n",
       "      <td>4.486998e+06</td>\n",
       "    </tr>\n",
       "    <tr>\n",
       "      <th>2021-12-31 23:50:00</th>\n",
       "      <td>260.276651</td>\n",
       "      <td>255.595406</td>\n",
       "      <td>259.809913</td>\n",
       "      <td>29.451952</td>\n",
       "      <td>2.900866</td>\n",
       "      <td>33.73188</td>\n",
       "      <td>4.486998e+06</td>\n",
       "    </tr>\n",
       "    <tr>\n",
       "      <th>2021-12-31 23:55:00</th>\n",
       "      <td>260.276651</td>\n",
       "      <td>255.595406</td>\n",
       "      <td>259.809913</td>\n",
       "      <td>29.451952</td>\n",
       "      <td>2.900866</td>\n",
       "      <td>33.73188</td>\n",
       "      <td>4.486998e+06</td>\n",
       "    </tr>\n",
       "  </tbody>\n",
       "</table>\n",
       "<p>105119 rows × 7 columns</p>\n",
       "</div>"
      ],
      "text/plain": [
       "                     W2- Irradiance (W/m²)  W3 - Irradiance (W/m²)  \\\n",
       "Date (+00:00)                                                        \n",
       "2021-01-01 00:05:00               0.000000                0.000000   \n",
       "2021-01-01 00:10:00               0.000000                0.000000   \n",
       "2021-01-01 00:15:00               0.000000                0.000000   \n",
       "2021-01-01 00:20:00               0.000000                0.000000   \n",
       "2021-01-01 00:25:00               0.000000                0.000000   \n",
       "...                                    ...                     ...   \n",
       "2021-12-31 23:35:00             260.276651              255.595406   \n",
       "2021-12-31 23:40:00             260.276651              255.595406   \n",
       "2021-12-31 23:45:00             260.276651              255.595406   \n",
       "2021-12-31 23:50:00             260.276651              255.595406   \n",
       "2021-12-31 23:55:00             260.276651              255.595406   \n",
       "\n",
       "                     W4 - Irradiance (W/m²)   Temperature ambiante (°C)  \\\n",
       "Date (+00:00)                                                             \n",
       "2021-01-01 00:05:00                0.000000                   21.966700   \n",
       "2021-01-01 00:10:00                0.000000                   21.966700   \n",
       "2021-01-01 00:15:00                0.000000                   21.966700   \n",
       "2021-01-01 00:20:00                0.000000                   21.966700   \n",
       "2021-01-01 00:25:00                0.000000                   21.966700   \n",
       "...                                     ...                         ...   \n",
       "2021-12-31 23:35:00              259.809913                   29.451952   \n",
       "2021-12-31 23:40:00              259.809913                   29.451952   \n",
       "2021-12-31 23:45:00              259.809913                   29.451952   \n",
       "2021-12-31 23:50:00              259.809913                   29.451952   \n",
       "2021-12-31 23:55:00              259.809913                   29.451952   \n",
       "\n",
       "                      Vitesse du vent (m/s)  Température module (°C)  \\\n",
       "Date (+00:00)                                                          \n",
       "2021-01-01 00:05:00                1.741600                 25.90000   \n",
       "2021-01-01 00:10:00                1.741600                 25.90000   \n",
       "2021-01-01 00:15:00                1.741600                 25.90000   \n",
       "2021-01-01 00:20:00                1.741600                 25.90000   \n",
       "2021-01-01 00:25:00                1.741600                 25.90000   \n",
       "...                                     ...                      ...   \n",
       "2021-12-31 23:35:00                2.900866                 33.73188   \n",
       "2021-12-31 23:40:00                2.900866                 33.73188   \n",
       "2021-12-31 23:45:00                2.900866                 33.73188   \n",
       "2021-12-31 23:50:00                2.900866                 33.73188   \n",
       "2021-12-31 23:55:00                2.900866                 33.73188   \n",
       "\n",
       "                     Production Centrale Meter 1 - (W)  \n",
       "Date (+00:00)                                           \n",
       "2021-01-01 00:05:00                       0.000000e+00  \n",
       "2021-01-01 00:10:00                       0.000000e+00  \n",
       "2021-01-01 00:15:00                       0.000000e+00  \n",
       "2021-01-01 00:20:00                       0.000000e+00  \n",
       "2021-01-01 00:25:00                       0.000000e+00  \n",
       "...                                                ...  \n",
       "2021-12-31 23:35:00                       4.486998e+06  \n",
       "2021-12-31 23:40:00                       4.486998e+06  \n",
       "2021-12-31 23:45:00                       4.486998e+06  \n",
       "2021-12-31 23:50:00                       4.486998e+06  \n",
       "2021-12-31 23:55:00                       4.486998e+06  \n",
       "\n",
       "[105119 rows x 7 columns]"
      ]
     },
     "execution_count": 14,
     "metadata": {},
     "output_type": "execute_result"
    }
   ],
   "source": [
    "traitement=pd.DataFrame(imp)\n",
    "traitement.index=base_donnees.index\n",
    "traitement.columns=base_donnees.columns\n",
    "traitement"
   ]
  },
  {
   "cell_type": "code",
   "execution_count": 15,
   "metadata": {},
   "outputs": [
    {
     "data": {
      "text/plain": [
       "W2- Irradiance (W/m²)                0\n",
       "W3 - Irradiance (W/m²)               0\n",
       "W4 - Irradiance (W/m²)               0\n",
       " Temperature ambiante (°C)           0\n",
       " Vitesse du vent (m/s)               0\n",
       "Température module (°C)              0\n",
       "Production Centrale Meter 1 - (W)    0\n",
       "dtype: int64"
      ]
     },
     "execution_count": 15,
     "metadata": {},
     "output_type": "execute_result"
    }
   ],
   "source": [
    "traitement.isnull().sum()"
   ]
  },
  {
   "attachments": {},
   "cell_type": "markdown",
   "metadata": {},
   "source": [
    "IMPUTION DES DONNEES MANQUANTES"
   ]
  },
  {
   "cell_type": "code",
   "execution_count": 16,
   "metadata": {},
   "outputs": [
    {
     "data": {
      "text/plain": [
       "(105119, 6)"
      ]
     },
     "execution_count": 16,
     "metadata": {},
     "output_type": "execute_result"
    }
   ],
   "source": [
    "liste=list(traitement.columns)\n",
    "list_1=liste[6:]\n",
    "\n",
    "X=traitement.drop(list_1,axis=1)\n",
    "X.shape"
   ]
  },
  {
   "cell_type": "code",
   "execution_count": 17,
   "metadata": {},
   "outputs": [
    {
     "data": {
      "text/plain": [
       "(105119, 1)"
      ]
     },
     "execution_count": 17,
     "metadata": {},
     "output_type": "execute_result"
    }
   ],
   "source": [
    "list_1=liste[:6]\n",
    "\n",
    "y=traitement.drop(list_1,axis=1)\n",
    "y.shape"
   ]
  },
  {
   "cell_type": "code",
   "execution_count": 18,
   "metadata": {},
   "outputs": [],
   "source": [
    "# division de notres base base de donnees apres imputation\n",
    "from sklearn.model_selection import train_test_split\n",
    "#x_train,y_train,x_test,y_test=train_test_split(X,y, train_size=0.8,test_size=0.2)"
   ]
  },
  {
   "cell_type": "code",
   "execution_count": 19,
   "metadata": {},
   "outputs": [],
   "source": [
    "#x_train.shape[0]\n",
    "from sklearn.preprocessing import StandardScaler"
   ]
  },
  {
   "cell_type": "code",
   "execution_count": 20,
   "metadata": {},
   "outputs": [],
   "source": [
    "x_train=np.array(X.iloc[:84095]).T\n",
    "y_train=np.array(y.iloc[:84095]).T\n",
    "x_test=np.array(X.iloc[84095:]).T\n",
    "y_test=np.array(y.iloc[84095:]).T"
   ]
  },
  {
   "attachments": {},
   "cell_type": "markdown",
   "metadata": {},
   "source": [
    "NORMALISATION DES DONNEES"
   ]
  },
  {
   "cell_type": "code",
   "execution_count": 21,
   "metadata": {},
   "outputs": [],
   "source": [
    "x_train=(x_train-x_train.mean())/x_train.std()\n",
    "y_train=(y_train-y_train.mean())/y_train.std()\n",
    "x_test=(x_test-x_test.mean())/x_test.std()\n",
    "y_test=(y_test-y_test.mean())/y_test.std()"
   ]
  },
  {
   "cell_type": "code",
   "execution_count": 22,
   "metadata": {},
   "outputs": [
    {
     "data": {
      "text/plain": [
       "array([[-0.52263888, -0.52263888, -0.52263888, ..., -0.52263888,\n",
       "        -0.52263888, -0.52263888],\n",
       "       [-0.52263888, -0.52263888, -0.52263888, ..., -0.52263888,\n",
       "        -0.52263888, -0.52263888],\n",
       "       [-0.52263888, -0.52263888, -0.52263888, ..., -0.52263888,\n",
       "        -0.52263888, -0.52263888],\n",
       "       [-0.44337711, -0.44337711, -0.44337711, ..., -0.40879798,\n",
       "        -0.40879798, -0.40879798],\n",
       "       [-0.51635471, -0.51635471, -0.51635471, ..., -0.5169407 ,\n",
       "        -0.5169407 , -0.5169407 ],\n",
       "       [-0.4291847 , -0.4291847 , -0.4291847 , ..., -0.41294749,\n",
       "        -0.41294749, -0.41294749]])"
      ]
     },
     "execution_count": 22,
     "metadata": {},
     "output_type": "execute_result"
    }
   ],
   "source": [
    "x_train"
   ]
  },
  {
   "cell_type": "code",
   "execution_count": 23,
   "metadata": {},
   "outputs": [
    {
     "name": "stdout",
     "output_type": "stream",
     "text": [
      "A0 (6, 84095)\n",
      "A1 (32, 84095)\n",
      "A2 (32, 84095)\n",
      "A3 (32, 84095)\n",
      "A4 (1, 84095)\n"
     ]
    }
   ],
   "source": [
    "parametres=initisations([6,32,32,32,1])\n",
    "activations=forword_propagation(x_train,parametres)\n",
    "for key,val in activations.items():\n",
    "    print(key,val.shape)"
   ]
  },
  {
   "cell_type": "code",
   "execution_count": 24,
   "metadata": {},
   "outputs": [
    {
     "data": {
      "text/plain": [
       "8"
      ]
     },
     "execution_count": 24,
     "metadata": {},
     "output_type": "execute_result"
    }
   ],
   "source": [
    "d=len(parametres)//2\n",
    "dz=activations['A'+str(d)]-y_train\n",
    "m=y_train.shape[1]\n",
    "gradients={}\n",
    "for c in  range(d,0,-1):\n",
    "    gradients['dw'+str(c)]=1/m*np.dot(dz,activations['A'+str(c-1)].T)\n",
    "    gradients['db'+str(c)]=1/m*np.sum(dz,axis=1)#,keepdim=True)\n",
    "len(gradients)"
   ]
  },
  {
   "cell_type": "code",
   "execution_count": 25,
   "metadata": {},
   "outputs": [
    {
     "name": "stdout",
     "output_type": "stream",
     "text": [
      "dw4 (1, 32)\n",
      "db4 (1,)\n",
      "dw3 (32, 32)\n",
      "db3 (32,)\n",
      "dw2 (32, 32)\n",
      "db2 (32,)\n",
      "dw1 (32, 6)\n",
      "db1 (32,)\n"
     ]
    }
   ],
   "source": [
    "gradients=back_propagation(y_train,activations,parametres)\n",
    "for key,val in gradients.items():\n",
    "    print(key,val.shape)"
   ]
  },
  {
   "cell_type": "code",
   "execution_count": 26,
   "metadata": {},
   "outputs": [
    {
     "name": "stdout",
     "output_type": "stream",
     "text": [
      "w1 (32, 6)\n",
      "b1 (32, 32)\n",
      "w2 (32, 32)\n",
      "b2 (32, 32)\n",
      "w3 (32, 32)\n",
      "b3 (32, 32)\n",
      "w4 (1, 32)\n",
      "b4 (1, 1)\n"
     ]
    }
   ],
   "source": [
    "misajour=update(gradients,parametres,0.01)\n",
    "for key,val in misajour.items():\n",
    "    print(key,val.shape)"
   ]
  },
  {
   "cell_type": "code",
   "execution_count": 27,
   "metadata": {},
   "outputs": [
    {
     "name": "stdout",
     "output_type": "stream",
     "text": [
      "(32, 6)\n",
      "(6, 84095)\n"
     ]
    }
   ],
   "source": [
    "print(parametres['w'+str(c)].shape)\n",
    "print(activations['A'+str(c-1)].shape)"
   ]
  },
  {
   "cell_type": "code",
   "execution_count": 31,
   "metadata": {},
   "outputs": [
    {
     "ename": "ValueError",
     "evalue": "operands could not be broadcast together with shapes (32,84095) (32,32) ",
     "output_type": "error",
     "traceback": [
      "\u001b[1;31m---------------------------------------------------------------------------\u001b[0m",
      "\u001b[1;31mValueError\u001b[0m                                Traceback (most recent call last)",
      "\u001b[1;32mc:\\Users\\ABDOULAHI FAYE\\OneDrive\\Bureau\\formation_python\\DATA ANALY\\reseau_neurones.ipynb Cell 34\u001b[0m in \u001b[0;36m<cell line: 8>\u001b[1;34m()\u001b[0m\n\u001b[0;32m      <a href='vscode-notebook-cell:/c%3A/Users/ABDOULAHI%20FAYE/OneDrive/Bureau/formation_python/DATA%20ANALY/reseau_neurones.ipynb#X45sZmlsZQ%3D%3D?line=6'>7</a>\u001b[0m train_acc\u001b[39m=\u001b[39m[]\n\u001b[0;32m      <a href='vscode-notebook-cell:/c%3A/Users/ABDOULAHI%20FAYE/OneDrive/Bureau/formation_python/DATA%20ANALY/reseau_neurones.ipynb#X45sZmlsZQ%3D%3D?line=7'>8</a>\u001b[0m \u001b[39mfor\u001b[39;00m i \u001b[39min\u001b[39;00m \u001b[39mrange\u001b[39m(\u001b[39m10\u001b[39m):\n\u001b[1;32m----> <a href='vscode-notebook-cell:/c%3A/Users/ABDOULAHI%20FAYE/OneDrive/Bureau/formation_python/DATA%20ANALY/reseau_neurones.ipynb#X45sZmlsZQ%3D%3D?line=8'>9</a>\u001b[0m     activations\u001b[39m=\u001b[39mforword_propagation(x_train,parametres)\n\u001b[0;32m     <a href='vscode-notebook-cell:/c%3A/Users/ABDOULAHI%20FAYE/OneDrive/Bureau/formation_python/DATA%20ANALY/reseau_neurones.ipynb#X45sZmlsZQ%3D%3D?line=9'>10</a>\u001b[0m     gradients\u001b[39m=\u001b[39mback_propagation(y_train,activations,parametres)\n\u001b[0;32m     <a href='vscode-notebook-cell:/c%3A/Users/ABDOULAHI%20FAYE/OneDrive/Bureau/formation_python/DATA%20ANALY/reseau_neurones.ipynb#X45sZmlsZQ%3D%3D?line=10'>11</a>\u001b[0m     parametres\u001b[39m=\u001b[39mupdate(gradients,parametres,learning_rate)\n",
      "\u001b[1;32mc:\\Users\\ABDOULAHI FAYE\\OneDrive\\Bureau\\formation_python\\DATA ANALY\\reseau_neurones.ipynb Cell 34\u001b[0m in \u001b[0;36mforword_propagation\u001b[1;34m(X, parametres)\u001b[0m\n\u001b[0;32m      <a href='vscode-notebook-cell:/c%3A/Users/ABDOULAHI%20FAYE/OneDrive/Bureau/formation_python/DATA%20ANALY/reseau_neurones.ipynb#X45sZmlsZQ%3D%3D?line=3'>4</a>\u001b[0m d\u001b[39m=\u001b[39m\u001b[39mlen\u001b[39m(parametres)\u001b[39m/\u001b[39m\u001b[39m/\u001b[39m\u001b[39m2\u001b[39m\n\u001b[0;32m      <a href='vscode-notebook-cell:/c%3A/Users/ABDOULAHI%20FAYE/OneDrive/Bureau/formation_python/DATA%20ANALY/reseau_neurones.ipynb#X45sZmlsZQ%3D%3D?line=4'>5</a>\u001b[0m \u001b[39mfor\u001b[39;00m c \u001b[39min\u001b[39;00m \u001b[39mrange\u001b[39m(\u001b[39m1\u001b[39m,d\u001b[39m+\u001b[39m\u001b[39m1\u001b[39m):\n\u001b[1;32m----> <a href='vscode-notebook-cell:/c%3A/Users/ABDOULAHI%20FAYE/OneDrive/Bureau/formation_python/DATA%20ANALY/reseau_neurones.ipynb#X45sZmlsZQ%3D%3D?line=5'>6</a>\u001b[0m     z\u001b[39m=\u001b[39mparametres[\u001b[39m'\u001b[39;49m\u001b[39mw\u001b[39;49m\u001b[39m'\u001b[39;49m\u001b[39m+\u001b[39;49m\u001b[39mstr\u001b[39;49m(c)]\u001b[39m.\u001b[39;49mdot(activations[\u001b[39m'\u001b[39;49m\u001b[39mA\u001b[39;49m\u001b[39m'\u001b[39;49m\u001b[39m+\u001b[39;49m\u001b[39mstr\u001b[39;49m(c\u001b[39m-\u001b[39;49m\u001b[39m1\u001b[39;49m)])\u001b[39m+\u001b[39;49mparametres[\u001b[39m'\u001b[39;49m\u001b[39mb\u001b[39;49m\u001b[39m'\u001b[39;49m\u001b[39m+\u001b[39;49m\u001b[39mstr\u001b[39;49m(c)]\n\u001b[0;32m      <a href='vscode-notebook-cell:/c%3A/Users/ABDOULAHI%20FAYE/OneDrive/Bureau/formation_python/DATA%20ANALY/reseau_neurones.ipynb#X45sZmlsZQ%3D%3D?line=6'>7</a>\u001b[0m     activations[\u001b[39m'\u001b[39m\u001b[39mA\u001b[39m\u001b[39m'\u001b[39m\u001b[39m+\u001b[39m\u001b[39mstr\u001b[39m(c)]\u001b[39m=\u001b[39m\u001b[39m1\u001b[39m\u001b[39m/\u001b[39m(\u001b[39m1\u001b[39m\u001b[39m+\u001b[39mnp\u001b[39m.\u001b[39mexp(\u001b[39m-\u001b[39mz))\n\u001b[0;32m      <a href='vscode-notebook-cell:/c%3A/Users/ABDOULAHI%20FAYE/OneDrive/Bureau/formation_python/DATA%20ANALY/reseau_neurones.ipynb#X45sZmlsZQ%3D%3D?line=7'>8</a>\u001b[0m \u001b[39mreturn\u001b[39;00m activations\n",
      "\u001b[1;31mValueError\u001b[0m: operands could not be broadcast together with shapes (32,84095) (32,32) "
     ]
    }
   ],
   "source": [
    "dimensions=list((32,32,32))\n",
    "learning_rate=0.01\n",
    "dimensions.insert(0,x_train.shape[0])\n",
    "dimensions.append(y_train.shape[0])\n",
    "parametres=initisations(dimensions)\n",
    "train_loss=[]\n",
    "train_acc=[]\n",
    "for i in range(10):\n",
    "    activations=forword_propagation(x_train,parametres)\n",
    "    gradients=back_propagation(y_train,activations,parametres)     \n",
    "    parametres=update(gradients,parametres,learning_rate)"
   ]
  },
  {
   "cell_type": "code",
   "execution_count": 35,
   "metadata": {},
   "outputs": [
    {
     "data": {
      "text/plain": [
       "[6, 32, 32, 32, 1]"
      ]
     },
     "execution_count": 35,
     "metadata": {},
     "output_type": "execute_result"
    }
   ],
   "source": [
    "dimensions=list((32,32,32))\n",
    "learning_rate=0.01\n",
    "dimensions.insert(0,x_train.shape[0])\n",
    "dimensions.append(y_train.shape[0])\n",
    "dimensions"
   ]
  },
  {
   "attachments": {},
   "cell_type": "markdown",
   "metadata": {},
   "source": [
    "2. SELECTION DU MODELE"
   ]
  },
  {
   "cell_type": "code",
   "execution_count": 37,
   "metadata": {},
   "outputs": [
    {
     "ename": "ValueError",
     "evalue": "Multioutput target data is not supported with label binarization",
     "output_type": "error",
     "traceback": [
      "\u001b[1;31m---------------------------------------------------------------------------\u001b[0m",
      "\u001b[1;31mValueError\u001b[0m                                Traceback (most recent call last)",
      "\u001b[1;32mc:\\Users\\ABDOULAHI FAYE\\OneDrive\\Bureau\\formation_python\\DATA ANALY\\reseau_neurones.ipynb Cell 37\u001b[0m in \u001b[0;36m<cell line: 1>\u001b[1;34m()\u001b[0m\n\u001b[1;32m----> <a href='vscode-notebook-cell:/c%3A/Users/ABDOULAHI%20FAYE/OneDrive/Bureau/formation_python/DATA%20ANALY/reseau_neurones.ipynb#X50sZmlsZQ%3D%3D?line=0'>1</a>\u001b[0m reseau_neurones(x_train,y_train,couche_cachees\u001b[39m=\u001b[39;49m(\u001b[39m32\u001b[39;49m,\u001b[39m32\u001b[39;49m,\u001b[39m32\u001b[39;49m),learning_rate\u001b[39m=\u001b[39;49m\u001b[39m0.01\u001b[39;49m,n_iter\u001b[39m=\u001b[39;49m\u001b[39m1000\u001b[39;49m)\n",
      "\u001b[1;32mc:\\Users\\ABDOULAHI FAYE\\OneDrive\\Bureau\\formation_python\\DATA ANALY\\reseau_neurones.ipynb Cell 37\u001b[0m in \u001b[0;36mreseau_neurones\u001b[1;34m(X, y, couche_cachees, learning_rate, n_iter)\u001b[0m\n\u001b[0;32m     <a href='vscode-notebook-cell:/c%3A/Users/ABDOULAHI%20FAYE/OneDrive/Bureau/formation_python/DATA%20ANALY/reseau_neurones.ipynb#X50sZmlsZQ%3D%3D?line=15'>16</a>\u001b[0m \u001b[39mif\u001b[39;00m i\u001b[39m%\u001b[39m\u001b[39m10\u001b[39m\u001b[39m==\u001b[39m\u001b[39m0\u001b[39m:\n\u001b[0;32m     <a href='vscode-notebook-cell:/c%3A/Users/ABDOULAHI%20FAYE/OneDrive/Bureau/formation_python/DATA%20ANALY/reseau_neurones.ipynb#X50sZmlsZQ%3D%3D?line=16'>17</a>\u001b[0m     c\u001b[39m=\u001b[39m\u001b[39mlen\u001b[39m(parametres)\u001b[39m/\u001b[39m\u001b[39m/\u001b[39m\u001b[39m2\u001b[39m\n\u001b[1;32m---> <a href='vscode-notebook-cell:/c%3A/Users/ABDOULAHI%20FAYE/OneDrive/Bureau/formation_python/DATA%20ANALY/reseau_neurones.ipynb#X50sZmlsZQ%3D%3D?line=17'>18</a>\u001b[0m     train_loss\u001b[39m.\u001b[39mappend(log_loss(y,activations[\u001b[39m'\u001b[39;49m\u001b[39mA\u001b[39;49m\u001b[39m'\u001b[39;49m\u001b[39m+\u001b[39;49m\u001b[39mstr\u001b[39;49m(c)]))\n\u001b[0;32m     <a href='vscode-notebook-cell:/c%3A/Users/ABDOULAHI%20FAYE/OneDrive/Bureau/formation_python/DATA%20ANALY/reseau_neurones.ipynb#X50sZmlsZQ%3D%3D?line=18'>19</a>\u001b[0m     y_pred\u001b[39m=\u001b[39mprediction(X,parametres)\n\u001b[0;32m     <a href='vscode-notebook-cell:/c%3A/Users/ABDOULAHI%20FAYE/OneDrive/Bureau/formation_python/DATA%20ANALY/reseau_neurones.ipynb#X50sZmlsZQ%3D%3D?line=19'>20</a>\u001b[0m     curent_accuracy\u001b[39m=\u001b[39maccuracy_score(y\u001b[39m.\u001b[39mflatten(),y_pred\u001b[39m.\u001b[39mflatten())\n",
      "File \u001b[1;32mc:\\Users\\ABDOULAHI FAYE\\anaconda3\\lib\\site-packages\\sklearn\\metrics\\_classification.py:2387\u001b[0m, in \u001b[0;36mlog_loss\u001b[1;34m(y_true, y_pred, eps, normalize, sample_weight, labels)\u001b[0m\n\u001b[0;32m   2385\u001b[0m     lb\u001b[39m.\u001b[39mfit(labels)\n\u001b[0;32m   2386\u001b[0m \u001b[39melse\u001b[39;00m:\n\u001b[1;32m-> 2387\u001b[0m     lb\u001b[39m.\u001b[39;49mfit(y_true)\n\u001b[0;32m   2389\u001b[0m \u001b[39mif\u001b[39;00m \u001b[39mlen\u001b[39m(lb\u001b[39m.\u001b[39mclasses_) \u001b[39m==\u001b[39m \u001b[39m1\u001b[39m:\n\u001b[0;32m   2390\u001b[0m     \u001b[39mif\u001b[39;00m labels \u001b[39mis\u001b[39;00m \u001b[39mNone\u001b[39;00m:\n",
      "File \u001b[1;32mc:\\Users\\ABDOULAHI FAYE\\anaconda3\\lib\\site-packages\\sklearn\\preprocessing\\_label.py:294\u001b[0m, in \u001b[0;36mLabelBinarizer.fit\u001b[1;34m(self, y)\u001b[0m\n\u001b[0;32m    292\u001b[0m \u001b[39mself\u001b[39m\u001b[39m.\u001b[39my_type_ \u001b[39m=\u001b[39m type_of_target(y)\n\u001b[0;32m    293\u001b[0m \u001b[39mif\u001b[39;00m \u001b[39m\"\u001b[39m\u001b[39mmultioutput\u001b[39m\u001b[39m\"\u001b[39m \u001b[39min\u001b[39;00m \u001b[39mself\u001b[39m\u001b[39m.\u001b[39my_type_:\n\u001b[1;32m--> 294\u001b[0m     \u001b[39mraise\u001b[39;00m \u001b[39mValueError\u001b[39;00m(\n\u001b[0;32m    295\u001b[0m         \u001b[39m\"\u001b[39m\u001b[39mMultioutput target data is not supported with label binarization\u001b[39m\u001b[39m\"\u001b[39m\n\u001b[0;32m    296\u001b[0m     )\n\u001b[0;32m    297\u001b[0m \u001b[39mif\u001b[39;00m _num_samples(y) \u001b[39m==\u001b[39m \u001b[39m0\u001b[39m:\n\u001b[0;32m    298\u001b[0m     \u001b[39mraise\u001b[39;00m \u001b[39mValueError\u001b[39;00m(\u001b[39m\"\u001b[39m\u001b[39my has 0 samples: \u001b[39m\u001b[39m%r\u001b[39;00m\u001b[39m\"\u001b[39m \u001b[39m%\u001b[39m y)\n",
      "\u001b[1;31mValueError\u001b[0m: Multioutput target data is not supported with label binarization"
     ]
    }
   ],
   "source": [
    "reseau_neurones(x_train,y_train,couche_cachees=(32,32,32),learning_rate=0.01,n_iter=1000)"
   ]
  },
  {
   "attachments": {},
   "cell_type": "markdown",
   "metadata": {},
   "source": [
    "3. EVATUATION"
   ]
  },
  {
   "attachments": {},
   "cell_type": "markdown",
   "metadata": {},
   "source": [
    "4. VALIDATION"
   ]
  },
  {
   "cell_type": "code",
   "execution_count": 39,
   "metadata": {},
   "outputs": [],
   "source": [
    "from sklearn.neural_network import MLPRegressor"
   ]
  },
  {
   "cell_type": "code",
   "execution_count": 44,
   "metadata": {},
   "outputs": [
    {
     "ename": "TypeError",
     "evalue": "__init__() got multiple values for argument 'hidden_layer_sizes'",
     "output_type": "error",
     "traceback": [
      "\u001b[1;31m---------------------------------------------------------------------------\u001b[0m",
      "\u001b[1;31mTypeError\u001b[0m                                 Traceback (most recent call last)",
      "\u001b[1;32mc:\\Users\\ABDOULAHI FAYE\\OneDrive\\Bureau\\formation_python\\DATA ANALY\\reseau_neurones.ipynb Cell 41\u001b[0m in \u001b[0;36m<cell line: 1>\u001b[1;34m()\u001b[0m\n\u001b[1;32m----> <a href='vscode-notebook-cell:/c%3A/Users/ABDOULAHI%20FAYE/OneDrive/Bureau/formation_python/DATA%20ANALY/reseau_neurones.ipynb#X56sZmlsZQ%3D%3D?line=0'>1</a>\u001b[0m clf\u001b[39m=\u001b[39m MLPRegressor (\u001b[39m'\u001b[39;49m\u001b[39mIbfgs\u001b[39;49m\u001b[39m'\u001b[39;49m,hidden_layer_sizes\u001b[39m=\u001b[39;49m(\u001b[39m100\u001b[39;49m,),activation\u001b[39m=\u001b[39;49m\u001b[39m'\u001b[39;49m\u001b[39mrelu\u001b[39;49m\u001b[39m'\u001b[39;49m,alpha\u001b[39m=\u001b[39;49m\u001b[39m0.0001\u001b[39;49m)\n",
      "\u001b[1;31mTypeError\u001b[0m: __init__() got multiple values for argument 'hidden_layer_sizes'"
     ]
    }
   ],
   "source": [
    "clf= MLPRegressor ('Ibfgs',hidden_layer_sizes=(100,),activation='relu',alpha=0.0001)"
   ]
  }
 ],
 "metadata": {
  "kernelspec": {
   "display_name": "base",
   "language": "python",
   "name": "python3"
  },
  "language_info": {
   "codemirror_mode": {
    "name": "ipython",
    "version": 3
   },
   "file_extension": ".py",
   "mimetype": "text/x-python",
   "name": "python",
   "nbconvert_exporter": "python",
   "pygments_lexer": "ipython3",
   "version": "3.9.12"
  },
  "orig_nbformat": 4
 },
 "nbformat": 4,
 "nbformat_minor": 2
}
