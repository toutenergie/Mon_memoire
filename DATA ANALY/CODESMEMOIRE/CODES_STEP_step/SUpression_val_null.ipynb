{
 "cells": [
  {
   "cell_type": "code",
   "execution_count": 1,
   "metadata": {},
   "outputs": [],
   "source": [
    "import pandas as pd\n",
    "import numpy as np\n",
    "import matplotlib.pyplot as plt\n",
    "import seaborn as sns\n",
    "\n",
    "from sklearn.feature_selection import VarianceThreshold\n",
    "from sklearn.feature_selection import SelectKBest,chi2,f_regression,r_regression,mutual_info_regression, f_classif\n",
    "\n",
    "from sklearn.preprocessing import StandardScaler, MinMaxScaler, RobustScaler, MaxAbsScaler\n",
    "\n",
    "from sklearn.model_selection import cross_val_score\n",
    "from sklearn.model_selection import KFold,LeaveOneOut,ShuffleSplit,StratifiedKFold,GroupKFold\n",
    "from sklearn.tree import DecisionTreeRegressor,plot_tree\n",
    "\n",
    "from sklearn.linear_model import LinearRegression,RidgeCV,LassoCV,ElasticNetCV\n",
    "\n",
    "from sklearn.metrics import r2_score,mean_absolute_error,mean_squared_error\n",
    "\n",
    "import warnings\n",
    "warnings.filterwarnings('ignore')"
   ]
  },
  {
   "cell_type": "code",
   "execution_count": 2,
   "metadata": {},
   "outputs": [],
   "source": [
    "absence=['na','-','I']\n",
    "df=pd.read_excel('basedonnees.xlsx',na_values=absence,parse_dates=True,index_col=[0])"
   ]
  },
  {
   "cell_type": "code",
   "execution_count": 3,
   "metadata": {},
   "outputs": [
    {
     "data": {
      "text/html": [
       "<div>\n",
       "<style scoped>\n",
       "    .dataframe tbody tr th:only-of-type {\n",
       "        vertical-align: middle;\n",
       "    }\n",
       "\n",
       "    .dataframe tbody tr th {\n",
       "        vertical-align: top;\n",
       "    }\n",
       "\n",
       "    .dataframe thead th {\n",
       "        text-align: right;\n",
       "    }\n",
       "</style>\n",
       "<table border=\"1\" class=\"dataframe\">\n",
       "  <thead>\n",
       "    <tr style=\"text-align: right;\">\n",
       "      <th></th>\n",
       "      <th>W2- Irradiance (W/m²)</th>\n",
       "      <th>Temperature ambiante (°C)</th>\n",
       "      <th>Vitesse du vent (m/s)</th>\n",
       "      <th>Température module (°C)</th>\n",
       "      <th>Production Centrale Meter 1 - (W)</th>\n",
       "    </tr>\n",
       "    <tr>\n",
       "      <th>Date (+00:00)</th>\n",
       "      <th></th>\n",
       "      <th></th>\n",
       "      <th></th>\n",
       "      <th></th>\n",
       "      <th></th>\n",
       "    </tr>\n",
       "  </thead>\n",
       "  <tbody>\n",
       "    <tr>\n",
       "      <th>2021-01-01 00:05:00</th>\n",
       "      <td>0.0</td>\n",
       "      <td>21.9667</td>\n",
       "      <td>1.7416</td>\n",
       "      <td>25.9</td>\n",
       "      <td>0.0</td>\n",
       "    </tr>\n",
       "    <tr>\n",
       "      <th>2021-01-01 00:10:00</th>\n",
       "      <td>0.0</td>\n",
       "      <td>21.9667</td>\n",
       "      <td>1.7416</td>\n",
       "      <td>25.9</td>\n",
       "      <td>0.0</td>\n",
       "    </tr>\n",
       "    <tr>\n",
       "      <th>2021-01-01 00:15:00</th>\n",
       "      <td>0.0</td>\n",
       "      <td>21.9667</td>\n",
       "      <td>1.7416</td>\n",
       "      <td>25.9</td>\n",
       "      <td>0.0</td>\n",
       "    </tr>\n",
       "    <tr>\n",
       "      <th>2021-01-01 00:20:00</th>\n",
       "      <td>0.0</td>\n",
       "      <td>21.9667</td>\n",
       "      <td>1.7416</td>\n",
       "      <td>25.9</td>\n",
       "      <td>0.0</td>\n",
       "    </tr>\n",
       "    <tr>\n",
       "      <th>2021-01-01 00:25:00</th>\n",
       "      <td>0.0</td>\n",
       "      <td>21.9667</td>\n",
       "      <td>1.7416</td>\n",
       "      <td>25.9</td>\n",
       "      <td>0.0</td>\n",
       "    </tr>\n",
       "  </tbody>\n",
       "</table>\n",
       "</div>"
      ],
      "text/plain": [
       "                     W2- Irradiance (W/m²)   Temperature ambiante (°C)  \\\n",
       "Date (+00:00)                                                            \n",
       "2021-01-01 00:05:00                    0.0                     21.9667   \n",
       "2021-01-01 00:10:00                    0.0                     21.9667   \n",
       "2021-01-01 00:15:00                    0.0                     21.9667   \n",
       "2021-01-01 00:20:00                    0.0                     21.9667   \n",
       "2021-01-01 00:25:00                    0.0                     21.9667   \n",
       "\n",
       "                      Vitesse du vent (m/s)  Température module (°C)  \\\n",
       "Date (+00:00)                                                          \n",
       "2021-01-01 00:05:00                  1.7416                     25.9   \n",
       "2021-01-01 00:10:00                  1.7416                     25.9   \n",
       "2021-01-01 00:15:00                  1.7416                     25.9   \n",
       "2021-01-01 00:20:00                  1.7416                     25.9   \n",
       "2021-01-01 00:25:00                  1.7416                     25.9   \n",
       "\n",
       "                     Production Centrale Meter 1 - (W)  \n",
       "Date (+00:00)                                           \n",
       "2021-01-01 00:05:00                                0.0  \n",
       "2021-01-01 00:10:00                                0.0  \n",
       "2021-01-01 00:15:00                                0.0  \n",
       "2021-01-01 00:20:00                                0.0  \n",
       "2021-01-01 00:25:00                                0.0  "
      ]
     },
     "execution_count": 3,
     "metadata": {},
     "output_type": "execute_result"
    }
   ],
   "source": [
    "df=df.dropna(axis=0)\n",
    "\n",
    "df=df.drop([df.columns[1],df.columns[2]],axis=1)\n",
    "df.head()"
   ]
  },
  {
   "cell_type": "code",
   "execution_count": 4,
   "metadata": {},
   "outputs": [
    {
     "data": {
      "text/plain": [
       "(104238, 5)"
      ]
     },
     "execution_count": 4,
     "metadata": {},
     "output_type": "execute_result"
    }
   ],
   "source": [
    "df.shape"
   ]
  },
  {
   "cell_type": "code",
   "execution_count": 5,
   "metadata": {},
   "outputs": [],
   "source": [
    "null_suprim=df[df['W2- Irradiance (W/m²)']>0]"
   ]
  },
  {
   "cell_type": "code",
   "execution_count": 6,
   "metadata": {},
   "outputs": [
    {
     "data": {
      "text/html": [
       "<div>\n",
       "<style scoped>\n",
       "    .dataframe tbody tr th:only-of-type {\n",
       "        vertical-align: middle;\n",
       "    }\n",
       "\n",
       "    .dataframe tbody tr th {\n",
       "        vertical-align: top;\n",
       "    }\n",
       "\n",
       "    .dataframe thead th {\n",
       "        text-align: right;\n",
       "    }\n",
       "</style>\n",
       "<table border=\"1\" class=\"dataframe\">\n",
       "  <thead>\n",
       "    <tr style=\"text-align: right;\">\n",
       "      <th></th>\n",
       "      <th>W2- Irradiance (W/m²)</th>\n",
       "      <th>Temperature ambiante (°C)</th>\n",
       "      <th>Vitesse du vent (m/s)</th>\n",
       "      <th>Température module (°C)</th>\n",
       "      <th>Production Centrale Meter 1 - (W)</th>\n",
       "    </tr>\n",
       "    <tr>\n",
       "      <th>Date (+00:00)</th>\n",
       "      <th></th>\n",
       "      <th></th>\n",
       "      <th></th>\n",
       "      <th></th>\n",
       "      <th></th>\n",
       "    </tr>\n",
       "  </thead>\n",
       "  <tbody>\n",
       "    <tr>\n",
       "      <th>2021-01-01 07:25:00</th>\n",
       "      <td>0.4000</td>\n",
       "      <td>19.6500</td>\n",
       "      <td>1.6900</td>\n",
       "      <td>24.60</td>\n",
       "      <td>0.0</td>\n",
       "    </tr>\n",
       "    <tr>\n",
       "      <th>2021-01-01 07:30:00</th>\n",
       "      <td>3.2500</td>\n",
       "      <td>19.6480</td>\n",
       "      <td>1.9283</td>\n",
       "      <td>24.60</td>\n",
       "      <td>2400.0</td>\n",
       "    </tr>\n",
       "    <tr>\n",
       "      <th>2021-01-01 07:35:00</th>\n",
       "      <td>8.2467</td>\n",
       "      <td>19.6217</td>\n",
       "      <td>1.9417</td>\n",
       "      <td>24.75</td>\n",
       "      <td>15600.0</td>\n",
       "    </tr>\n",
       "    <tr>\n",
       "      <th>2021-01-01 07:40:00</th>\n",
       "      <td>17.6000</td>\n",
       "      <td>19.7050</td>\n",
       "      <td>2.2800</td>\n",
       "      <td>24.80</td>\n",
       "      <td>26400.0</td>\n",
       "    </tr>\n",
       "    <tr>\n",
       "      <th>2021-01-01 07:45:00</th>\n",
       "      <td>31.9500</td>\n",
       "      <td>19.8833</td>\n",
       "      <td>2.3016</td>\n",
       "      <td>25.05</td>\n",
       "      <td>132000.0</td>\n",
       "    </tr>\n",
       "    <tr>\n",
       "      <th>...</th>\n",
       "      <td>...</td>\n",
       "      <td>...</td>\n",
       "      <td>...</td>\n",
       "      <td>...</td>\n",
       "      <td>...</td>\n",
       "    </tr>\n",
       "    <tr>\n",
       "      <th>2021-12-30 18:15:00</th>\n",
       "      <td>63.5600</td>\n",
       "      <td>33.3920</td>\n",
       "      <td>1.6440</td>\n",
       "      <td>32.55</td>\n",
       "      <td>2599200.0</td>\n",
       "    </tr>\n",
       "    <tr>\n",
       "      <th>2021-12-30 18:20:00</th>\n",
       "      <td>37.2100</td>\n",
       "      <td>33.1600</td>\n",
       "      <td>0.9590</td>\n",
       "      <td>31.75</td>\n",
       "      <td>2898000.0</td>\n",
       "    </tr>\n",
       "    <tr>\n",
       "      <th>2021-12-30 18:25:00</th>\n",
       "      <td>16.2400</td>\n",
       "      <td>32.8000</td>\n",
       "      <td>1.1720</td>\n",
       "      <td>31.30</td>\n",
       "      <td>2558400.0</td>\n",
       "    </tr>\n",
       "    <tr>\n",
       "      <th>2021-12-30 18:30:00</th>\n",
       "      <td>5.7800</td>\n",
       "      <td>32.4600</td>\n",
       "      <td>1.2497</td>\n",
       "      <td>30.85</td>\n",
       "      <td>1536000.0</td>\n",
       "    </tr>\n",
       "    <tr>\n",
       "      <th>2021-12-30 18:35:00</th>\n",
       "      <td>0.2000</td>\n",
       "      <td>32.3000</td>\n",
       "      <td>1.3433</td>\n",
       "      <td>30.30</td>\n",
       "      <td>1482000.0</td>\n",
       "    </tr>\n",
       "  </tbody>\n",
       "</table>\n",
       "<p>52874 rows × 5 columns</p>\n",
       "</div>"
      ],
      "text/plain": [
       "                     W2- Irradiance (W/m²)   Temperature ambiante (°C)  \\\n",
       "Date (+00:00)                                                            \n",
       "2021-01-01 07:25:00                 0.4000                     19.6500   \n",
       "2021-01-01 07:30:00                 3.2500                     19.6480   \n",
       "2021-01-01 07:35:00                 8.2467                     19.6217   \n",
       "2021-01-01 07:40:00                17.6000                     19.7050   \n",
       "2021-01-01 07:45:00                31.9500                     19.8833   \n",
       "...                                    ...                         ...   \n",
       "2021-12-30 18:15:00                63.5600                     33.3920   \n",
       "2021-12-30 18:20:00                37.2100                     33.1600   \n",
       "2021-12-30 18:25:00                16.2400                     32.8000   \n",
       "2021-12-30 18:30:00                 5.7800                     32.4600   \n",
       "2021-12-30 18:35:00                 0.2000                     32.3000   \n",
       "\n",
       "                      Vitesse du vent (m/s)  Température module (°C)  \\\n",
       "Date (+00:00)                                                          \n",
       "2021-01-01 07:25:00                  1.6900                    24.60   \n",
       "2021-01-01 07:30:00                  1.9283                    24.60   \n",
       "2021-01-01 07:35:00                  1.9417                    24.75   \n",
       "2021-01-01 07:40:00                  2.2800                    24.80   \n",
       "2021-01-01 07:45:00                  2.3016                    25.05   \n",
       "...                                     ...                      ...   \n",
       "2021-12-30 18:15:00                  1.6440                    32.55   \n",
       "2021-12-30 18:20:00                  0.9590                    31.75   \n",
       "2021-12-30 18:25:00                  1.1720                    31.30   \n",
       "2021-12-30 18:30:00                  1.2497                    30.85   \n",
       "2021-12-30 18:35:00                  1.3433                    30.30   \n",
       "\n",
       "                     Production Centrale Meter 1 - (W)  \n",
       "Date (+00:00)                                           \n",
       "2021-01-01 07:25:00                                0.0  \n",
       "2021-01-01 07:30:00                             2400.0  \n",
       "2021-01-01 07:35:00                            15600.0  \n",
       "2021-01-01 07:40:00                            26400.0  \n",
       "2021-01-01 07:45:00                           132000.0  \n",
       "...                                                ...  \n",
       "2021-12-30 18:15:00                          2599200.0  \n",
       "2021-12-30 18:20:00                          2898000.0  \n",
       "2021-12-30 18:25:00                          2558400.0  \n",
       "2021-12-30 18:30:00                          1536000.0  \n",
       "2021-12-30 18:35:00                          1482000.0  \n",
       "\n",
       "[52874 rows x 5 columns]"
      ]
     },
     "execution_count": 6,
     "metadata": {},
     "output_type": "execute_result"
    }
   ],
   "source": [
    "null_suprim"
   ]
  },
  {
   "cell_type": "code",
   "execution_count": 7,
   "metadata": {},
   "outputs": [
    {
     "data": {
      "image/png": "[encoded data removed]",
      "text/plain": [
       "<Figure size 1080x576 with 5 Axes>"
      ]
     },
     "metadata": {
      "needs_background": "light"
     },
     "output_type": "display_data"
    }
   ],
   "source": [
    "fig=plt.figure(figsize=(15,8))\n",
    "for i,j in enumerate(null_suprim.columns):\n",
    "    \n",
    "    ax=fig.add_subplot(2,3,1+i)\n",
    "    ax.plot(null_suprim[j])\n",
    "    ax.set_title(j)\n",
    "\n",
    "\n",
    "plt.savefig('donnee_parametres.png')"
   ]
  },
  {
   "cell_type": "code",
   "execution_count": 8,
   "metadata": {},
   "outputs": [
    {
     "name": "stdout",
     "output_type": "stream",
     "text": [
      "(52862, 3)\n",
      "(12, 3)\n",
      "______________________________\n",
      "(52862, 1)\n",
      "(12, 1)\n"
     ]
    }
   ],
   "source": [
    "XX=null_suprim.drop([null_suprim.columns[4],null_suprim.columns[2]],axis=1)\n",
    "yy=null_suprim[['Production Centrale Meter 1 - (W)']]\n",
    "\n",
    "XX=np.array(XX)\n",
    "yy=np.array(yy)\n",
    "seuil=12 # POUR 1H\n",
    "Xs_train=XX[12:]\n",
    "ys_train=yy[12:]\n",
    "\n",
    "Xs_teste=XX[:12]\n",
    "ys_teste=yy[:12]\n",
    "\n",
    "print(Xs_train.shape)\n",
    "print(Xs_teste.shape)\n",
    "print(\"______________________________\")\n",
    "print(ys_train.shape)\n",
    "print(ys_teste.shape)"
   ]
  },
  {
   "cell_type": "code",
   "execution_count": 9,
   "metadata": {},
   "outputs": [
    {
     "data": {
      "text/plain": [
       "array([[1940400.],\n",
       "       [1562400.],\n",
       "       [3649200.],\n",
       "       ...,\n",
       "       [2558400.],\n",
       "       [1536000.],\n",
       "       [1482000.]])"
      ]
     },
     "execution_count": 9,
     "metadata": {},
     "output_type": "execute_result"
    }
   ],
   "source": [
    "ys_train"
   ]
  },
  {
   "cell_type": "code",
   "execution_count": 10,
   "metadata": {},
   "outputs": [
    {
     "data": {
      "text/plain": [
       "array([[ 0.4   , 19.65  , 24.6   ],\n",
       "       [ 3.25  , 19.648 , 24.6   ],\n",
       "       [ 8.2467, 19.6217, 24.75  ],\n",
       "       ...,\n",
       "       [16.24  , 32.8   , 31.3   ],\n",
       "       [ 5.78  , 32.46  , 30.85  ],\n",
       "       [ 0.2   , 32.3   , 30.3   ]])"
      ]
     },
     "execution_count": 10,
     "metadata": {},
     "output_type": "execute_result"
    }
   ],
   "source": [
    "XX"
   ]
  },
  {
   "cell_type": "markdown",
   "metadata": {},
   "source": [
    "### KNN"
   ]
  },
  {
   "cell_type": "code",
   "execution_count": 11,
   "metadata": {},
   "outputs": [
    {
     "name": "stdout",
     "output_type": "stream",
     "text": [
      "score sur le train set:0.7415468064387796\n",
      "score sur le teste set:-4.409825834968251\n",
      "MSE_train:2941004.496717522\n",
      "MSE_train:1162886.766971653\n"
     ]
    }
   ],
   "source": [
    "from sklearn.neighbors import KNeighborsRegressor\n",
    "from sklearn.model_selection import GridSearchCV\n",
    "from sklearn.model_selection import learning_curve\n",
    "\n",
    "params={'n_neighbors':np.arange(1,20),'metric':['euclidean','manhattan']}\n",
    "grid=GridSearchCV(KNeighborsRegressor(),params,cv=10)\n",
    "grid.fit(Xs_train,ys_train)\n",
    "modele4=grid.best_estimator_\n",
    "print(f\"score sur le train set:{modele4.score(Xs_train,ys_train)}\")\n",
    "print(f\"score sur le teste set:{modele4.score(Xs_teste,ys_teste)}\")\n",
    "print(f\"MSE_train:{np.sqrt(mean_squared_error(ys_train,modele4.predict(Xs_train)))}\")\n",
    "print(f\"MSE_train:{np.sqrt(mean_squared_error(ys_teste,modele4.predict(Xs_teste)))}\")"
   ]
  },
  {
   "cell_type": "code",
   "execution_count": 12,
   "metadata": {},
   "outputs": [
    {
     "data": {
      "text/plain": [
       "0.6627984052245884"
      ]
     },
     "execution_count": 12,
     "metadata": {},
     "output_type": "execute_result"
    }
   ],
   "source": [
    "grid.best_score_"
   ]
  },
  {
   "cell_type": "markdown",
   "metadata": {},
   "source": [
    "### regression lineaire"
   ]
  },
  {
   "cell_type": "code",
   "execution_count": 13,
   "metadata": {},
   "outputs": [
    {
     "name": "stdout",
     "output_type": "stream",
     "text": [
      "R2_train:0.6939048554987048\n",
      "R2_teste:-17.46454600621507\n",
      "MSE_TRAIN:3200611.4707181547\n",
      "MSE_TESTE:2148399.8021809426\n"
     ]
    }
   ],
   "source": [
    "modele_1=LinearRegression()\n",
    "modele_1.fit(Xs_train,ys_train)\n",
    "trat=KFold(10)#,shuffle=False, random_state=1)\n",
    "#print(cross_val_score(modele_1,X_train,y_train,cv=trat).mean())\n",
    "\n",
    "print(f\"R2_train:{modele_1.score(Xs_train,ys_train)}\")\n",
    "print(f\"R2_teste:{modele_1.score(Xs_teste,ys_teste)}\")\n",
    "print(f\"MSE_TRAIN:{np.sqrt(mean_squared_error(ys_train,modele_1.predict(Xs_train)))}\")\n",
    "print(f\"MSE_TESTE:{np.sqrt(mean_squared_error(ys_teste,modele_1.predict(Xs_teste)))}\")"
   ]
  },
  {
   "cell_type": "markdown",
   "metadata": {},
   "source": [
    "### LES ARBRE DE DECISIONS"
   ]
  },
  {
   "cell_type": "code",
   "execution_count": 14,
   "metadata": {},
   "outputs": [
    {
     "data": {
      "image/png": "[encoded data removed]",
      "text/plain": [
       "<Figure size 432x288 with 1 Axes>"
      ]
     },
     "metadata": {
      "needs_background": "light"
     },
     "output_type": "display_data"
    },
    {
     "name": "stdout",
     "output_type": "stream",
     "text": [
      "La meilleure profondeur maximale est : 9\n"
     ]
    },
    {
     "ename": "AttributeError",
     "evalue": "'numpy.ndarray' object has no attribute 'columns'",
     "output_type": "error",
     "traceback": [
      "\u001b[1;31m---------------------------------------------------------------------------\u001b[0m",
      "\u001b[1;31mAttributeError\u001b[0m                            Traceback (most recent call last)",
      "\u001b[1;32mc:\\Users\\ABDOULAHI FAYE\\OneDrive\\Bureau\\formation_python\\DATA ANALY\\CODESMEMOIRE\\CODES_STEP_step\\SUpression_val_null.ipynb Cell 17\u001b[0m line \u001b[0;36m<cell line: 26>\u001b[1;34m()\u001b[0m\n\u001b[0;32m     <a href='vscode-notebook-cell:/c%3A/Users/ABDOULAHI%20FAYE/OneDrive/Bureau/formation_python/DATA%20ANALY/CODESMEMOIRE/CODES_STEP_step/SUpression_val_null.ipynb#X22sZmlsZQ%3D%3D?line=22'>23</a>\u001b[0m tree\u001b[39m.\u001b[39mfit(Xs_train, ys_train)\n\u001b[0;32m     <a href='vscode-notebook-cell:/c%3A/Users/ABDOULAHI%20FAYE/OneDrive/Bureau/formation_python/DATA%20ANALY/CODESMEMOIRE/CODES_STEP_step/SUpression_val_null.ipynb#X22sZmlsZQ%3D%3D?line=24'>25</a>\u001b[0m plt\u001b[39m.\u001b[39mfigure(figsize\u001b[39m=\u001b[39m(\u001b[39m15\u001b[39m,\u001b[39m5\u001b[39m))\n\u001b[1;32m---> <a href='vscode-notebook-cell:/c%3A/Users/ABDOULAHI%20FAYE/OneDrive/Bureau/formation_python/DATA%20ANALY/CODESMEMOIRE/CODES_STEP_step/SUpression_val_null.ipynb#X22sZmlsZQ%3D%3D?line=25'>26</a>\u001b[0m plot_tree(tree, feature_names\u001b[39m=\u001b[39mXX\u001b[39m.\u001b[39;49mcolumns)\n\u001b[0;32m     <a href='vscode-notebook-cell:/c%3A/Users/ABDOULAHI%20FAYE/OneDrive/Bureau/formation_python/DATA%20ANALY/CODESMEMOIRE/CODES_STEP_step/SUpression_val_null.ipynb#X22sZmlsZQ%3D%3D?line=26'>27</a>\u001b[0m plt\u001b[39m.\u001b[39mshow()\n\u001b[0;32m     <a href='vscode-notebook-cell:/c%3A/Users/ABDOULAHI%20FAYE/OneDrive/Bureau/formation_python/DATA%20ANALY/CODESMEMOIRE/CODES_STEP_step/SUpression_val_null.ipynb#X22sZmlsZQ%3D%3D?line=28'>29</a>\u001b[0m \u001b[39mprint\u001b[39m(r2_score(ys_train, tree\u001b[39m.\u001b[39mpredict(Xs_train)))\n",
      "\u001b[1;31mAttributeError\u001b[0m: 'numpy.ndarray' object has no attribute 'columns'"
     ]
    },
    {
     "data": {
      "text/plain": [
       "<Figure size 1080x360 with 0 Axes>"
      ]
     },
     "metadata": {},
     "output_type": "display_data"
    }
   ],
   "source": [
    "# Liste des profondeurs maximales à tester\n",
    "max_depths = range(1, 15)\n",
    "# Liste pour stocker les scores de validation croisée\n",
    "cv_scores = []\n",
    "# Pour chaque profondeur maximale, entraîner un arbre de décision et calculer le score de validation croisée\n",
    "for depth in max_depths:\n",
    "    tree = DecisionTreeRegressor(max_depth=depth, random_state=42)\n",
    "    scores = cross_val_score(tree, Xs_train, ys_train, cv=10)\n",
    "    cv_scores.append(np.mean(scores))\n",
    "\n",
    "# Tracer le graphique de validation croisée pour choisir la complexité de l'arbre optimal\n",
    "\n",
    "plt.plot(max_depths, cv_scores)\n",
    "plt.xlabel('Profondeur maximale de l\\'arbre')\n",
    "plt.ylabel('Score de validation croisée')\n",
    "plt.title('Validation croisée pour l\\'arbre de décision')\n",
    "plt.show()\n",
    "best_depth = max_depths[np.argmax(cv_scores)]\n",
    "print('La meilleure profondeur maximale est :', best_depth)\n",
    "\n",
    "# Construire l'arbre de décision avec la profondeur maximale choisie\n",
    "tree = DecisionTreeRegressor(max_depth=best_depth, random_state=42)\n",
    "tree.fit(Xs_train, ys_train)\n",
    "\n",
    "plt.figure(figsize=(15,5))\n",
    "plot_tree(tree, feature_names=XX.columns)\n",
    "plt.show()\n",
    "\n",
    "print(r2_score(ys_train, tree.predict(Xs_train)))\n",
    "print(r2_score(ys_teste, tree.predict(Xs_teste)))"
   ]
  },
  {
   "cell_type": "markdown",
   "metadata": {},
   "source": [
    "### BAGGING"
   ]
  },
  {
   "cell_type": "code",
   "execution_count": null,
   "metadata": {},
   "outputs": [
    {
     "name": "stdout",
     "output_type": "stream",
     "text": [
      "Best Parameters:  {'n_estimators': 500}\n",
      "R2_Train: 0.7418190049553269\n",
      "R2_Test: -4.488909390297772\n"
     ]
    }
   ],
   "source": [
    "from sklearn.ensemble import BaggingRegressor\n",
    "# Création du modèle\n",
    "model = BaggingRegressor(base_estimator=modele4,random_state=42)\n",
    "# Définition de la grille de paramètres pour la recherche\n",
    "param_grid = {\n",
    "    'n_estimators': [50, 100, 200,300,400,500],\n",
    "    #'learning_rate': [0.01, 0.1,0.5,0.6,0.7,0.8, 1.0]\n",
    "}\n",
    "grid_search = GridSearchCV(estimator=model, param_grid=param_grid, cv=10)\n",
    "grid_search.fit(Xs_train, ys_train)\n",
    "# Affichage des meilleurs paramètres\n",
    "print(\"Best Parameters: \", grid_search.best_params_)\n",
    "# Prédiction et évaluation du modèle\n",
    "best_model = grid_search.best_estimator_\n",
    "# Sur l'ensemble d'entrainement\n",
    "print(\"R2_Train:\", r2_score(ys_train, best_model.predict(Xs_train)))\n",
    "# Sur l'ensemble de test\n",
    "print(\"R2_Test:\", r2_score(ys_teste,  best_model.predict(Xs_teste)))"
   ]
  },
  {
   "cell_type": "markdown",
   "metadata": {},
   "source": [
    "## nomrmalisation des donnees"
   ]
  },
  {
   "cell_type": "code",
   "execution_count": 20,
   "metadata": {},
   "outputs": [
    {
     "name": "stdout",
     "output_type": "stream",
     "text": [
      "min yy:0.0 max yy: 1.0\n",
      "(52862, 3)\n",
      "(12, 3)\n",
      "______________________________\n",
      "(52862, 1)\n",
      "(12, 1)\n"
     ]
    }
   ],
   "source": [
    "nor=MinMaxScaler()\n",
    "XX_norm=nor.fit_transform(XX)\n",
    "yy_norm=nor.fit_transform(yy)\n",
    "hori=12\n",
    "Xs_train_norm=XX_norm[hori:]\n",
    "ys_train_norm=yy_norm[hori:]\n",
    "\n",
    "Xs_teste_norm=XX_norm[:hori]\n",
    "ys_teste_norm=yy_norm[:hori]\n",
    "\n",
    "print(f'min yy:{np.min(yy_norm)} max yy: {np.max(yy_norm)}')\n",
    "\n",
    "print(Xs_train_norm.shape)\n",
    "print(Xs_teste_norm.shape)\n",
    "print(\"______________________________\")\n",
    "print(ys_train_norm.shape)\n",
    "print(ys_teste_norm.shape)"
   ]
  },
  {
   "cell_type": "markdown",
   "metadata": {},
   "source": [
    "### KNN AVEC NORMALISATION"
   ]
  },
  {
   "cell_type": "code",
   "execution_count": null,
   "metadata": {},
   "outputs": [
    {
     "name": "stdout",
     "output_type": "stream",
     "text": [
      "score sur le train set:0.7577802247988332\n",
      "score sur le teste set:-2.331473129872363\n",
      "MSE_train:0.04893918359158031\n",
      "MSE_tEST:0.015685960924248378\n"
     ]
    }
   ],
   "source": [
    "params={'n_neighbors':np.arange(1,20),'metric':['euclidean','manhattan']}\n",
    "grid=GridSearchCV(KNeighborsRegressor(),params,cv=10)\n",
    "grid.fit(Xs_train_norm,ys_train_norm)\n",
    "modele4=grid.best_estimator_\n",
    "print(f\"score sur le train set:{modele4.score(Xs_train_norm,ys_train_norm)}\")\n",
    "print(f\"score sur le teste set:{modele4.score(Xs_teste_norm,ys_teste_norm)}\")\n",
    "print(f\"MSE_train:{np.sqrt(mean_squared_error(ys_train_norm,modele4.predict(Xs_train_norm)))}\")\n",
    "print(f\"MSE_tEST:{np.sqrt(mean_squared_error(ys_teste_norm,modele4.predict(Xs_teste_norm)))}\")"
   ]
  },
  {
   "cell_type": "markdown",
   "metadata": {},
   "source": [
    "### Les arbres de decisions avec normalisation"
   ]
  },
  {
   "cell_type": "code",
   "execution_count": null,
   "metadata": {},
   "outputs": [
    {
     "data": {
      "image/png": "[encoded data removed]",
      "text/plain": [
       "<Figure size 432x288 with 1 Axes>"
      ]
     },
     "metadata": {
      "needs_background": "light"
     },
     "output_type": "display_data"
    },
    {
     "name": "stdout",
     "output_type": "stream",
     "text": [
      "La meilleure profondeur maximale est : 9\n"
     ]
    },
    {
     "data": {
      "image/png": "[encoded data removed]",
      "text/plain": [
       "<Figure size 1080x360 with 1 Axes>"
      ]
     },
     "metadata": {
      "needs_background": "light"
     },
     "output_type": "display_data"
    },
    {
     "name": "stdout",
     "output_type": "stream",
     "text": [
      "0.742522897715642\n",
      "-8.9420449923951\n"
     ]
    }
   ],
   "source": [
    "# Liste des profondeurs maximales à tester\n",
    "max_depths = range(1, 15)\n",
    "# Liste pour stocker les scores de validation croisée\n",
    "cv_scores = []\n",
    "# Pour chaque profondeur maximale, entraîner un arbre de décision et calculer le score de validation croisée\n",
    "for depth in max_depths:\n",
    "    tree = DecisionTreeRegressor(max_depth=depth, random_state=42)\n",
    "    scores = cross_val_score(tree, Xs_train_norm, ys_train_norm, cv=10)\n",
    "    cv_scores.append(np.mean(scores))\n",
    "\n",
    "# Tracer le graphique de validation croisée pour choisir la complexité de l'arbre optimal\n",
    "\n",
    "plt.plot(max_depths, cv_scores)\n",
    "plt.xlabel('Profondeur maximale de l\\'arbre')\n",
    "plt.ylabel('Score de validation croisée')\n",
    "plt.title('Validation croisée pour l\\'arbre de décision')\n",
    "plt.show()\n",
    "best_depth = max_depths[np.argmax(cv_scores)]\n",
    "print('La meilleure profondeur maximale est :', best_depth)\n",
    "# Construire l'arbre de décision avec la profondeur maximale choisie\n",
    "tree = DecisionTreeRegressor(max_depth=best_depth, random_state=42)\n",
    "tree.fit(Xs_train_norm, ys_train_norm)\n",
    "\n",
    "plt.figure(figsize=(15,5))\n",
    "plot_tree(tree, feature_names=null_suprim.drop([null_suprim.columns[4],null_suprim.columns[2]],axis=1).columns)\n",
    "plt.show()\n",
    "\n",
    "print(r2_score(ys_train_norm, tree.predict(Xs_train_norm)))\n",
    "print(r2_score(ys_teste_norm, tree.predict(Xs_teste_norm)))"
   ]
  },
  {
   "cell_type": "markdown",
   "metadata": {},
   "source": [
    "### Bagging avec normalisation"
   ]
  },
  {
   "cell_type": "code",
   "execution_count": null,
   "metadata": {},
   "outputs": [
    {
     "name": "stdout",
     "output_type": "stream",
     "text": [
      "Best Parameters:  {'n_estimators': 500}\n",
      "R2_Train: 0.9612599682243671\n",
      "R2_Test: -4.370225687681973\n"
     ]
    }
   ],
   "source": [
    "from sklearn.ensemble import BaggingRegressor\n",
    "# Création du modèle\n",
    "model = BaggingRegressor(random_state=42)\n",
    "# Définition de la grille de paramètres pour la recherche\n",
    "param_grid = {\n",
    "    'n_estimators': [50, 100, 200,300,400,500],\n",
    "    #'learning_rate': [0.01, 0.1,0.5,0.6,0.7,0.8, 1.0]\n",
    "}\n",
    "grid_search = GridSearchCV(estimator=model, param_grid=param_grid, cv=10)\n",
    "grid_search.fit(Xs_train_norm, ys_train_norm)\n",
    "# Affichage des meilleurs paramètres\n",
    "print(\"Best Parameters: \", grid_search.best_params_)\n",
    "# Prédiction et évaluation du modèle\n",
    "best_model = grid_search.best_estimator_\n",
    "# Sur l'ensemble d'entrainement\n",
    "print(\"R2_Train:\", r2_score(ys_train_norm, best_model.predict(Xs_train_norm)))\n",
    "# Sur l'ensemble de test\n",
    "print(\"R2_Test:\", r2_score(ys_teste_norm,best_model.predict(Xs_teste_norm)))"
   ]
  },
  {
   "cell_type": "code",
   "execution_count": 43,
   "metadata": {},
   "outputs": [],
   "source": [
    "import tensorflow as tf\n",
    "\n",
    "model=tf.keras.Sequential()\n",
    "model.add(tf.keras.layers.Dense(units=32,activation='relu',\n",
    "                                kernel_initializer='uniform',\n",
    "                                input_dim=3))\n",
    "model.add(tf.keras.layers.Dense(units=32,activation='relu',\n",
    "                                kernel_initializer='uniform',\n",
    "                                input_dim=3))\n",
    "model.add(tf.keras.layers.Dense(units=32,activation='relu',\n",
    "                                kernel_initializer='uniform',\n",
    "                                input_dim=3))\n",
    "model.add(tf.keras.layers.Dense(units=1,activation='relu'))\n",
    "\n",
    "model.compile(optimizer='adam',loss='mse',metrics=['mse'])"
   ]
  },
  {
   "cell_type": "code",
   "execution_count": 44,
   "metadata": {},
   "outputs": [
    {
     "name": "stdout",
     "output_type": "stream",
     "text": [
      "Epoch 1/50\n"
     ]
    },
    {
     "name": "stdout",
     "output_type": "stream",
     "text": [
      "1652/1652 [==============================] - 8s 3ms/step - loss: 0.0035 - mse: 0.0035\n",
      "Epoch 2/50\n",
      "1652/1652 [==============================] - 5s 3ms/step - loss: 0.0030 - mse: 0.0030\n",
      "Epoch 3/50\n",
      "1652/1652 [==============================] - 4s 2ms/step - loss: 0.0030 - mse: 0.0030\n",
      "Epoch 4/50\n",
      "1652/1652 [==============================] - 3s 2ms/step - loss: 0.0030 - mse: 0.0030\n",
      "Epoch 5/50\n",
      "1652/1652 [==============================] - 3s 2ms/step - loss: 0.0030 - mse: 0.0030\n",
      "Epoch 6/50\n",
      "1652/1652 [==============================] - 3s 2ms/step - loss: 0.0030 - mse: 0.0030\n",
      "Epoch 7/50\n",
      "1652/1652 [==============================] - 3s 2ms/step - loss: 0.0030 - mse: 0.0030\n",
      "Epoch 8/50\n",
      "1652/1652 [==============================] - 3s 2ms/step - loss: 0.0029 - mse: 0.0029\n",
      "Epoch 9/50\n",
      "1652/1652 [==============================] - 3s 2ms/step - loss: 0.0029 - mse: 0.0029\n",
      "Epoch 10/50\n",
      "1652/1652 [==============================] - 4s 2ms/step - loss: 0.0029 - mse: 0.0029\n",
      "Epoch 11/50\n",
      "1652/1652 [==============================] - 4s 2ms/step - loss: 0.0029 - mse: 0.0029\n",
      "Epoch 12/50\n",
      "1652/1652 [==============================] - 3s 2ms/step - loss: 0.0029 - mse: 0.0029\n",
      "Epoch 13/50\n",
      "1652/1652 [==============================] - 3s 2ms/step - loss: 0.0029 - mse: 0.0029\n",
      "Epoch 14/50\n",
      "1652/1652 [==============================] - 3s 2ms/step - loss: 0.0028 - mse: 0.0028\n",
      "Epoch 15/50\n",
      "1652/1652 [==============================] - 3s 2ms/step - loss: 0.0028 - mse: 0.0028\n",
      "Epoch 16/50\n",
      "1652/1652 [==============================] - 3s 2ms/step - loss: 0.0028 - mse: 0.0028\n",
      "Epoch 17/50\n",
      "1652/1652 [==============================] - 3s 2ms/step - loss: 0.0028 - mse: 0.0028\n",
      "Epoch 18/50\n",
      "1652/1652 [==============================] - 3s 2ms/step - loss: 0.0028 - mse: 0.0028\n",
      "Epoch 19/50\n",
      "1652/1652 [==============================] - 3s 2ms/step - loss: 0.0028 - mse: 0.0028\n",
      "Epoch 20/50\n",
      "1652/1652 [==============================] - 3s 2ms/step - loss: 0.0028 - mse: 0.0028\n",
      "Epoch 21/50\n",
      "1652/1652 [==============================] - 3s 2ms/step - loss: 0.0028 - mse: 0.0028\n",
      "Epoch 22/50\n",
      "1652/1652 [==============================] - 3s 2ms/step - loss: 0.0028 - mse: 0.0028\n",
      "Epoch 23/50\n",
      "1652/1652 [==============================] - 3s 2ms/step - loss: 0.0028 - mse: 0.0028\n",
      "Epoch 24/50\n",
      "1652/1652 [==============================] - 3s 2ms/step - loss: 0.0028 - mse: 0.0028\n",
      "Epoch 25/50\n",
      "1652/1652 [==============================] - 3s 2ms/step - loss: 0.0028 - mse: 0.0028\n",
      "Epoch 26/50\n",
      "1652/1652 [==============================] - 3s 2ms/step - loss: 0.0028 - mse: 0.0028\n",
      "Epoch 27/50\n",
      "1652/1652 [==============================] - 3s 2ms/step - loss: 0.0028 - mse: 0.0028\n",
      "Epoch 28/50\n",
      "1652/1652 [==============================] - 3s 2ms/step - loss: 0.0028 - mse: 0.0028\n",
      "Epoch 29/50\n",
      "1652/1652 [==============================] - 3s 2ms/step - loss: 0.0028 - mse: 0.0028\n",
      "Epoch 30/50\n",
      "1652/1652 [==============================] - 3s 2ms/step - loss: 0.0028 - mse: 0.0028\n",
      "Epoch 31/50\n",
      "1652/1652 [==============================] - 3s 2ms/step - loss: 0.0028 - mse: 0.0028\n",
      "Epoch 32/50\n",
      "1652/1652 [==============================] - 3s 2ms/step - loss: 0.0027 - mse: 0.0027\n",
      "Epoch 33/50\n",
      "1652/1652 [==============================] - 3s 2ms/step - loss: 0.0027 - mse: 0.0027\n",
      "Epoch 34/50\n",
      "1652/1652 [==============================] - 3s 2ms/step - loss: 0.0027 - mse: 0.0027\n",
      "Epoch 35/50\n",
      "1652/1652 [==============================] - 4s 2ms/step - loss: 0.0027 - mse: 0.0027\n",
      "Epoch 36/50\n",
      "1652/1652 [==============================] - 3s 2ms/step - loss: 0.0027 - mse: 0.0027\n",
      "Epoch 37/50\n",
      "1652/1652 [==============================] - 3s 2ms/step - loss: 0.0027 - mse: 0.0027\n",
      "Epoch 38/50\n",
      "1652/1652 [==============================] - 3s 2ms/step - loss: 0.0027 - mse: 0.0027\n",
      "Epoch 39/50\n",
      "1652/1652 [==============================] - 3s 2ms/step - loss: 0.0027 - mse: 0.0027\n",
      "Epoch 40/50\n",
      "1652/1652 [==============================] - 3s 2ms/step - loss: 0.0027 - mse: 0.0027\n",
      "Epoch 41/50\n",
      "1652/1652 [==============================] - 3s 2ms/step - loss: 0.0027 - mse: 0.0027\n",
      "Epoch 42/50\n",
      "1652/1652 [==============================] - 3s 2ms/step - loss: 0.0027 - mse: 0.0027\n",
      "Epoch 43/50\n",
      "1652/1652 [==============================] - 3s 2ms/step - loss: 0.0027 - mse: 0.0027\n",
      "Epoch 44/50\n",
      "1652/1652 [==============================] - 3s 2ms/step - loss: 0.0027 - mse: 0.0027\n",
      "Epoch 45/50\n",
      "1652/1652 [==============================] - 3s 2ms/step - loss: 0.0027 - mse: 0.0027\n",
      "Epoch 46/50\n",
      "1652/1652 [==============================] - 3s 2ms/step - loss: 0.0027 - mse: 0.0027\n",
      "Epoch 47/50\n",
      "1652/1652 [==============================] - 3s 2ms/step - loss: 0.0027 - mse: 0.0027\n",
      "Epoch 48/50\n",
      "1652/1652 [==============================] - 3s 2ms/step - loss: 0.0027 - mse: 0.0027\n",
      "Epoch 49/50\n",
      "1652/1652 [==============================] - 3s 2ms/step - loss: 0.0027 - mse: 0.0027\n",
      "Epoch 50/50\n",
      "1652/1652 [==============================] - 3s 2ms/step - loss: 0.0027 - mse: 0.0027\n"
     ]
    },
    {
     "data": {
      "text/plain": [
       "<keras.callbacks.History at 0x1484914a340>"
      ]
     },
     "execution_count": 44,
     "metadata": {},
     "output_type": "execute_result"
    }
   ],
   "source": [
    "model.fit(Xs_train_norm,ys_train_norm,epochs=50)"
   ]
  },
  {
   "cell_type": "code",
   "execution_count": 45,
   "metadata": {},
   "outputs": [
    {
     "name": "stdout",
     "output_type": "stream",
     "text": [
      "WARNING:tensorflow:5 out of the last 5 calls to <function Model.make_test_function.<locals>.test_function at 0x000001484361A3A0> triggered tf.function retracing. Tracing is expensive and the excessive number of tracings could be due to (1) creating @tf.function repeatedly in a loop, (2) passing tensors with different shapes, (3) passing Python objects instead of tensors. For (1), please define your @tf.function outside of the loop. For (2), @tf.function has reduce_retracing=True option that can avoid unnecessary retracing. For (3), please refer to https://www.tensorflow.org/guide/function#controlling_retracing and https://www.tensorflow.org/api_docs/python/tf/function for  more details.\n",
      "1/1 [==============================] - 0s 177ms/step - loss: 4.1535e-04 - mse: 4.1535e-04\n"
     ]
    },
    {
     "data": {
      "text/plain": [
       "[0.00041535322088748217, 0.00041535322088748217]"
      ]
     },
     "execution_count": 45,
     "metadata": {},
     "output_type": "execute_result"
    }
   ],
   "source": [
    "model.evaluate(Xs_teste_norm,ys_teste_norm)"
   ]
  },
  {
   "cell_type": "code",
   "execution_count": 46,
   "metadata": {},
   "outputs": [
    {
     "name": "stdout",
     "output_type": "stream",
     "text": [
      "1/1 [==============================] - 0s 140ms/step\n",
      "testR2:-4.623822941478381\n",
      "1652/1652 [==============================] - 3s 2ms/step\n",
      "trainR2:0.7285495317572307\n"
     ]
    }
   ],
   "source": [
    "print(f'testR2:{r2_score(ys_teste_norm,model.predict(Xs_teste_norm))}')\n",
    "print(f'trainR2:{r2_score(ys_train_norm,model.predict(Xs_train_norm))}')"
   ]
  },
  {
   "cell_type": "code",
   "execution_count": 30,
   "metadata": {},
   "outputs": [
    {
     "name": "stdout",
     "output_type": "stream",
     "text": [
      "1652/1652 [==============================] - 3s 2ms/step\n"
     ]
    },
    {
     "data": {
      "text/plain": [
       "<matplotlib.legend.Legend at 0x148449dc5e0>"
      ]
     },
     "execution_count": 30,
     "metadata": {},
     "output_type": "execute_result"
    },
    {
     "data": {
      "image/png": "[encoded data removed]",
      "text/plain": [
       "<Figure size 432x288 with 1 Axes>"
      ]
     },
     "metadata": {
      "needs_background": "light"
     },
     "output_type": "display_data"
    }
   ],
   "source": [
    "plt.plot(ys_train_norm,label='train')\n",
    "plt.plot(model.predict(Xs_train_norm),label='predict')\n",
    "plt.legend()"
   ]
  },
  {
   "cell_type": "code",
   "execution_count": null,
   "metadata": {},
   "outputs": [
    {
     "name": "stdout",
     "output_type": "stream",
     "text": [
      "Meilleurs paramètres :  {'n_estimators': 200, 'min_samples_split': 2, 'max_depth': 10}\n"
     ]
    }
   ],
   "source": [
    "from sklearn.model_selection import  RandomizedSearchCV\n",
    "from sklearn.ensemble import RandomForestRegressor\n",
    "\n",
    "# Définir la grille de paramètres à tester\n",
    "param_grid = {\n",
    "    'n_estimators': [50, 100, 200],\n",
    "    'max_depth': [None, 5, 10],\n",
    "    'min_samples_split': [2, 5, 10]\n",
    "}\n",
    "\n",
    "# Créer un modèle de forêt aléatoire de régression\n",
    "model = RandomForestRegressor(random_state=42)\n",
    "\n",
    "# Recherche aléatoire pour optimiser les paramètres\n",
    "random_search = RandomizedSearchCV(estimator=model, param_distributions=param_grid, scoring='r2', n_iter=10, cv=5)\n",
    "random_search.fit(Xs_train_norm, ys_train_norm)\n",
    "\n",
    "# Afficher les meilleurs paramètres trouvés\n",
    "print(\"Meilleurs paramètres : \", random_search.best_params_)"
   ]
  },
  {
   "cell_type": "code",
   "execution_count": null,
   "metadata": {},
   "outputs": [
    {
     "data": {
      "text/plain": [
       "0.7628816692499769"
      ]
     },
     "execution_count": 76,
     "metadata": {},
     "output_type": "execute_result"
    }
   ],
   "source": [
    "r2_score(ys_train_norm,random_search.predict(Xs_train_norm))"
   ]
  },
  {
   "cell_type": "code",
   "execution_count": null,
   "metadata": {},
   "outputs": [
    {
     "data": {
      "text/plain": [
       "[<matplotlib.lines.Line2D at 0x24ddba747c0>]"
      ]
     },
     "execution_count": 7,
     "metadata": {},
     "output_type": "execute_result"
    },
    {
     "data": {
      "image/png": "[encoded data removed]",
      "text/plain": [
       "<Figure size 432x288 with 1 Axes>"
      ]
     },
     "metadata": {
      "needs_background": "light"
     },
     "output_type": "display_data"
    }
   ],
   "source": [
    "x = np.linspace(-1,1,100)\n",
    "y = 1/(1+np.exp(-x))\n",
    "\n",
    "plt.plot(x,y)"
   ]
  }
 ],
 "metadata": {
  "kernelspec": {
   "display_name": "base",
   "language": "python",
   "name": "python3"
  },
  "language_info": {
   "codemirror_mode": {
    "name": "ipython",
    "version": 3
   },
   "file_extension": ".py",
   "mimetype": "text/x-python",
   "name": "python",
   "nbconvert_exporter": "python",
   "pygments_lexer": "ipython3",
   "version": "3.9.12"
  },
  "orig_nbformat": 4
 },
 "nbformat": 4,
 "nbformat_minor": 2
}
